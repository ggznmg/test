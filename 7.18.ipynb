{
 "cells": [
  {
   "cell_type": "markdown",
   "metadata": {},
   "source": [
    "# 选择\n",
    "## 布尔类型、数值和表达式\n",
    "![](../Photo/33.png)\n",
    "- 注意：比较运算符的相等是两个等到，一个等到代表赋值\n",
    "- 在Python中可以用整型0来代表False，其他数字来代表True\n",
    "- 后面还会讲到 is 在判断语句中的用发"
   ]
  },
  {
   "cell_type": "code",
   "execution_count": 2,
   "metadata": {},
   "outputs": [
    {
     "data": {
      "text/plain": [
       "True"
      ]
     },
     "execution_count": 2,
     "metadata": {},
     "output_type": "execute_result"
    }
   ],
   "source": [
    "a=100\n",
    "b=100\n",
    "a<b\n",
    "a<=b"
   ]
  },
  {
   "cell_type": "code",
   "execution_count": 3,
   "metadata": {},
   "outputs": [
    {
     "data": {
      "text/plain": [
       "True"
      ]
     },
     "execution_count": 3,
     "metadata": {},
     "output_type": "execute_result"
    }
   ],
   "source": [
    "a ='joker'\n",
    "b='hahaha'\n",
    "a>b"
   ]
  },
  {
   "cell_type": "markdown",
   "metadata": {},
   "source": [
    "##字符串比较使用ASCII的值"
   ]
  },
  {
   "cell_type": "code",
   "execution_count": 4,
   "metadata": {},
   "outputs": [
    {
     "data": {
      "text/plain": [
       "False"
      ]
     },
     "execution_count": 4,
     "metadata": {},
     "output_type": "execute_result"
    }
   ],
   "source": [
    "e1=100\n",
    "e2='100'\n",
    "e1==e2"
   ]
  },
  {
   "cell_type": "code",
   "execution_count": 5,
   "metadata": {},
   "outputs": [
    {
     "data": {
      "text/plain": [
       "True"
      ]
     },
     "execution_count": 5,
     "metadata": {},
     "output_type": "execute_result"
    }
   ],
   "source": [
    "e1=102\n",
    "e2=103\n",
    "e1!=e2"
   ]
  },
  {
   "cell_type": "code",
   "execution_count": 10,
   "metadata": {},
   "outputs": [
    {
     "name": "stdout",
     "output_type": "stream",
     "text": [
      "1 0\n"
     ]
    }
   ],
   "source": [
    "i=int(True)\n",
    "j=int(False)\n",
    "print(i,j)"
   ]
  },
  {
   "cell_type": "code",
   "execution_count": 13,
   "metadata": {},
   "outputs": [
    {
     "name": "stdout",
     "output_type": "stream",
     "text": [
      "True False\n"
     ]
    }
   ],
   "source": [
    "b1=bool(4)\n",
    "b2=bool(0)\n",
    "print(b1,b2)"
   ]
  },
  {
   "cell_type": "markdown",
   "metadata": {},
   "source": [
    "## EP:\n",
    "- <img src=\"../Photo/34.png\"></img>\n",
    "- 输入一个数字，判断其实奇数还是偶数"
   ]
  },
  {
   "cell_type": "code",
   "execution_count": 20,
   "metadata": {},
   "outputs": [
    {
     "name": "stdout",
     "output_type": "stream",
     "text": [
      "输入一个数12\n",
      "偶数\n"
     ]
    }
   ],
   "source": [
    "a1 = eval(input('输入一个数'))\n",
    "b=a1%2\n",
    "if b==0:\n",
    "    print('偶数')\n",
    "else:\n",
    "    print('奇数')"
   ]
  },
  {
   "cell_type": "markdown",
   "metadata": {},
   "source": [
    "## 产生随机数字\n",
    "- 函数random.randint(a,b) 可以用来产生一个a和b之间且包括a和b的随机整数"
   ]
  },
  {
   "cell_type": "code",
   "execution_count": 28,
   "metadata": {},
   "outputs": [
    {
     "name": "stdout",
     "output_type": "stream",
     "text": [
      "6\n"
     ]
    }
   ],
   "source": [
    "import random\n",
    "a=random.randint(1,7)\n",
    "print(a)"
   ]
  },
  {
   "cell_type": "code",
   "execution_count": 4,
   "metadata": {},
   "outputs": [
    {
     "name": "stdout",
     "output_type": "stream",
     "text": [
      "2\n"
     ]
    }
   ],
   "source": [
    "import random\n",
    "al=random.randint(0,5) #返回随机int型的数据\n",
    "print(al)"
   ]
  },
  {
   "cell_type": "code",
   "execution_count": 5,
   "metadata": {},
   "outputs": [
    {
     "name": "stdout",
     "output_type": "stream",
     "text": [
      "0.10461403246940704\n"
     ]
    }
   ],
   "source": [
    "a2=random.random()\n",
    "print(a2)"
   ]
  },
  {
   "cell_type": "code",
   "execution_count": 13,
   "metadata": {},
   "outputs": [
    {
     "name": "stdout",
     "output_type": "stream",
     "text": [
      "2\n"
     ]
    }
   ],
   "source": [
    "a3=random.randrange(start=0,stop=10,step=2)\n",
    "print(a3)"
   ]
  },
  {
   "cell_type": "code",
   "execution_count": null,
   "metadata": {},
   "outputs": [],
   "source": [
    "a4=random.Random(start=0,stop=10,step=2)\n",
    "print(a4)"
   ]
  },
  {
   "cell_type": "markdown",
   "metadata": {},
   "source": [
    "## EP：\n",
    "- 产生两个随机整数number1和number2，然后显示给用户，使用户输入数字，并判定其是否正确\n",
    "- 进阶:写一个随机序号点名程序"
   ]
  },
  {
   "cell_type": "code",
   "execution_count": 15,
   "metadata": {},
   "outputs": [
    {
     "name": "stdout",
     "output_type": "stream",
     "text": [
      "5 4\n",
      "请输入a1+a2=?9\n",
      "正确\n"
     ]
    }
   ],
   "source": [
    "import random\n",
    "a1=random.randint(0,5)\n",
    "a2=random.randint(0,5)\n",
    "print(a1,a2)\n",
    "a3=eval(input('请输入a1+a2=?'))\n",
    "if a3==a1+a2:\n",
    "    print('正确')\n",
    "else:\n",
    "    print('错')"
   ]
  },
  {
   "cell_type": "code",
   "execution_count": 26,
   "metadata": {},
   "outputs": [
    {
     "name": "stdout",
     "output_type": "stream",
     "text": [
      "学生对应的位置12\n"
     ]
    }
   ],
   "source": [
    "import  random\n",
    "a3=random.randrange(start=0,stop=3,step=1)\n",
    "a1=random.randrange(start=0,stop=3,step=1)\n",
    "print(\"学生对应的位置%s\"%(str(a3)+str(a1)))"
   ]
  },
  {
   "cell_type": "code",
   "execution_count": 32,
   "metadata": {},
   "outputs": [
    {
     "name": "stdout",
     "output_type": "stream",
     "text": [
      "学生对应的位置21\n"
     ]
    }
   ],
   "source": [
    "import  random\n",
    "a3=random.randrange(start=0,stop=4,step=1)\n",
    "a1=random.randrange(start=0,stop=3,step=1)\n",
    "if a1==3:\n",
    "    a1=random.randrange(start=0,stop=3,step=1)\n",
    "else:\n",
    "    print(\"学生对应的位置%s\"%(str(a3)+str(a1)))"
   ]
  },
  {
   "cell_type": "markdown",
   "metadata": {},
   "source": [
    "##  其他random方法\n",
    "- random.random 返回0.0到1.0之间前闭后开区间的随机浮点\n",
    "- random.randrange(a,b) 前闭后开"
   ]
  },
  {
   "cell_type": "markdown",
   "metadata": {},
   "source": [
    "## if语句\n",
    "- 如果条件正确就执行一个单向if语句，亦即当条件为真的时候才执行if内部的语句\n",
    "- Python有很多选择语句:\n",
    "> - 单向if \n",
    "  - 双向if-else\n",
    "  - 嵌套if\n",
    "  - 多向if-elif-else\n",
    "  \n",
    "- 注意：当语句含有子语句的时候，那么一定至少要有一个缩进，也就是说如果有儿子存在，那么一定要缩进\n",
    "- 切记不可table键和space混用，单用table 或者 space\n",
    "- 当你输出的结果是无论if是否为真时都需要显示时，语句应该与if对齐"
   ]
  },
  {
   "cell_type": "code",
   "execution_count": 30,
   "metadata": {},
   "outputs": [
    {
     "name": "stdout",
     "output_type": "stream",
     "text": [
      "lalal\n"
     ]
    }
   ],
   "source": [
    "if 'a'== 'b':\n",
    "    print('hahahah')\n",
    "print('lalal')"
   ]
  },
  {
   "cell_type": "markdown",
   "metadata": {},
   "source": [
    "## EP：\n",
    "- 用户输入一个数字，判断其实奇数还是偶数\n",
    "- 进阶：可以查看下4.5实例研究猜生日"
   ]
  },
  {
   "cell_type": "code",
   "execution_count": 34,
   "metadata": {},
   "outputs": [
    {
     "name": "stdout",
     "output_type": "stream",
     "text": [
      "输入一个数13\n",
      "奇数\n"
     ]
    }
   ],
   "source": [
    "a1=eval(input('输入一个数'))\n",
    "b1=a1%2\n",
    "if b1==0:\n",
    "    print('偶数')\n",
    "else:\n",
    "    print('奇数')"
   ]
  },
  {
   "cell_type": "markdown",
   "metadata": {},
   "source": [
    "## 双向if-else 语句\n",
    "- 如果条件为真，那么走if内部语句，否则走else内部语句"
   ]
  },
  {
   "cell_type": "code",
   "execution_count": null,
   "metadata": {},
   "outputs": [],
   "source": [
    "if 'a'=='b':\n",
    "    print('hahaa')\n",
    "elif 'a'=='c':\n",
    "    print('lala')\n",
    "elif 'a'=='d'\n",
    " "
   ]
  },
  {
   "cell_type": "code",
   "execution_count": null,
   "metadata": {},
   "outputs": [],
   "source": []
  },
  {
   "cell_type": "markdown",
   "metadata": {},
   "source": [
    "## EP：\n",
    "- 产生两个随机整数number1和number2，然后显示给用户，使用户输入数字，并判定其是否正确,如果正确打印“you‘re correct”，否则打印正确答案"
   ]
  },
  {
   "cell_type": "code",
   "execution_count": null,
   "metadata": {},
   "outputs": [],
   "source": []
  },
  {
   "cell_type": "markdown",
   "metadata": {},
   "source": [
    "## 嵌套if 和多向if-elif-else\n",
    "![](../Photo/35.png)"
   ]
  },
  {
   "cell_type": "code",
   "execution_count": 51,
   "metadata": {},
   "outputs": [
    {
     "name": "stdout",
     "output_type": "stream",
     "text": [
      "请输入分数67\n",
      "D\n"
     ]
    }
   ],
   "source": [
    "a1=eval(input('请输入分数'))\n",
    "if (100<=a1) or (a1>=90) :\n",
    "    print('grade =\\'A\\'')\n",
    "elif 89<=a1 or a1>=80:\n",
    "    print('B')\n",
    "elif 79<=a1 or a1>=70:\n",
    "    print('C')\n",
    "elif 69<=a1 or a1>=60:\n",
    "    print('D')\n",
    "else:\n",
    "    print('F')"
   ]
  },
  {
   "cell_type": "markdown",
   "metadata": {},
   "source": [
    "## EP：\n",
    "- 提示用户输入一个年份，然后显示表示这一年的动物\n",
    "![](../Photo/36.png)\n",
    "- 计算身体质量指数的程序\n",
    "- BMI = 以千克为单位的体重除以以米为单位的身高\n",
    "![](../Photo/37.png)"
   ]
  },
  {
   "cell_type": "code",
   "execution_count": null,
   "metadata": {},
   "outputs": [],
   "source": []
  },
  {
   "cell_type": "code",
   "execution_count": 53,
   "metadata": {},
   "outputs": [
    {
     "name": "stdout",
     "output_type": "stream",
     "text": [
      "输入年份1994\n",
      "狗\n"
     ]
    }
   ],
   "source": [
    "a1=eval(input('输入年份'))\n",
    "b1=a1%12\n",
    "if b1==0:\n",
    "    print('候')\n",
    "elif b1==1:\n",
    "    print('鸡')\n",
    "elif b1==2:\n",
    "     print('狗')\n",
    "elif b1==3:\n",
    "    print('猪')\n",
    "elif b1==4:\n",
    "    print('候') \n",
    "elif b1==5:\n",
    "    print('羊')\n",
    "elif b1==6:\n",
    "    print('马')\n",
    "elif b1==7:\n",
    "    print('蛇')\n",
    "elif b1==8:\n",
    "    print('龙')\n",
    "elif b1==9:\n",
    "    print('兔') \n",
    "elif b1==10:\n",
    "    print('虎')\n",
    "elif b1==11:\n",
    "    print('牛')\n",
    "elif b1==12:\n",
    "    print('鼠')"
   ]
  },
  {
   "cell_type": "markdown",
   "metadata": {},
   "source": [
    "## 逻辑运算符\n",
    "![](../Photo/38.png)"
   ]
  },
  {
   "cell_type": "code",
   "execution_count": 57,
   "metadata": {},
   "outputs": [],
   "source": [
    "if 'a'=='b'and 'c'=='d':\n",
    "    print('hahah')"
   ]
  },
  {
   "cell_type": "code",
   "execution_count": 1,
   "metadata": {},
   "outputs": [
    {
     "data": {
      "text/plain": [
       "True"
      ]
     },
     "execution_count": 1,
     "metadata": {},
     "output_type": "execute_result"
    }
   ],
   "source": [
    "100==100 and 100==100"
   ]
  },
  {
   "cell_type": "code",
   "execution_count": 55,
   "metadata": {},
   "outputs": [
    {
     "data": {
      "text/plain": [
       "True"
      ]
     },
     "execution_count": 55,
     "metadata": {},
     "output_type": "execute_result"
    }
   ],
   "source": [
    "not'a'=='b'"
   ]
  },
  {
   "cell_type": "code",
   "execution_count": null,
   "metadata": {},
   "outputs": [],
   "source": [
    "vip = ['a','b','c']\n",
    "if d not in vip:\n",
    "    print('是否充值？')"
   ]
  },
  {
   "cell_type": "code",
   "execution_count": 2,
   "metadata": {},
   "outputs": [
    {
     "data": {
      "text/plain": [
       "True"
      ]
     },
     "execution_count": 2,
     "metadata": {},
     "output_type": "execute_result"
    }
   ],
   "source": [
    "100==100 or 100==100\n"
   ]
  },
  {
   "cell_type": "code",
   "execution_count": 3,
   "metadata": {},
   "outputs": [
    {
     "data": {
      "text/plain": [
       "True"
      ]
     },
     "execution_count": 3,
     "metadata": {},
     "output_type": "execute_result"
    }
   ],
   "source": [
    "100==100 |100==100"
   ]
  },
  {
   "cell_type": "code",
   "execution_count": 4,
   "metadata": {},
   "outputs": [
    {
     "data": {
      "text/plain": [
       "True"
      ]
     },
     "execution_count": 4,
     "metadata": {},
     "output_type": "execute_result"
    }
   ],
   "source": [
    "100==100 & 100==100"
   ]
  },
  {
   "cell_type": "markdown",
   "metadata": {},
   "source": [
    "![](../Photo/39.png)\n",
    "![](../Photo/40.png)"
   ]
  },
  {
   "cell_type": "markdown",
   "metadata": {},
   "source": [
    "## EP：\n",
    "- 判定闰年：一个年份如果能被4整除但不能被100整除，或者能被400整除，那么这个年份就是闰年\n",
    "- 提示用户输入一个年份，并返回是否是闰年\n",
    "- 提示用户输入一个数字，判断其是否为水仙花数"
   ]
  },
  {
   "cell_type": "code",
   "execution_count": 15,
   "metadata": {},
   "outputs": [
    {
     "name": "stdout",
     "output_type": "stream",
     "text": [
      "输入年份2017\n",
      "非闰年\n"
     ]
    }
   ],
   "source": [
    "a1=eval(input('输入年份'))\n",
    "if (a1%4==0) and (a1%100!=0)  or (a1%400==0):\n",
    "    print('闰年')\n",
    "else:\n",
    "    print('非闰年')"
   ]
  },
  {
   "cell_type": "markdown",
   "metadata": {},
   "source": [
    "## 实例研究：彩票\n",
    "![](../Photo/41.png)"
   ]
  },
  {
   "cell_type": "code",
   "execution_count": null,
   "metadata": {},
   "outputs": [],
   "source": []
  },
  {
   "cell_type": "markdown",
   "metadata": {},
   "source": [
    "# Homework\n",
    "- 1\n",
    "![](../Photo/42.png)"
   ]
  },
  {
   "cell_type": "code",
   "execution_count": 29,
   "metadata": {},
   "outputs": [
    {
     "name": "stdout",
     "output_type": "stream",
     "text": [
      "输入a,b,c:1,2,3\n",
      "the equation has no real roots\n"
     ]
    }
   ],
   "source": [
    "import math\n",
    "a,b,c = eval(input('输入a,b,c:'))\n",
    "b1=b**2-4*a*c\n",
    "if b1>0:\n",
    "    a1 = math.sqrt(b**2-4*a*c)\n",
    "    print('the roots %.6f and %.5f'%((-b+a1)/2*a,(-b-a1)/2*a))\n",
    "elif b1==0:\n",
    "    print('the root is %.0f'%(-b/2*a))\n",
    "else: \n",
    "    print('the equation has no real roots')       "
   ]
  },
  {
   "cell_type": "markdown",
   "metadata": {},
   "source": [
    "- 2\n",
    "![](../Photo/43.png)"
   ]
  },
  {
   "cell_type": "code",
   "execution_count": 31,
   "metadata": {},
   "outputs": [
    {
     "name": "stdout",
     "output_type": "stream",
     "text": [
      "82 55\n",
      "请输入a1+a2=?100\n",
      "Flase\n"
     ]
    }
   ],
   "source": [
    "import random\n",
    "a1=random.randint(0,100)\n",
    "a2=random.randint(0,100)\n",
    "print(a1,a2)\n",
    "a3=eval(input('请输入a1+a2=?'))\n",
    "if a3==a1+a2:\n",
    "    print('True')\n",
    "else:\n",
    "    print('Flase')"
   ]
  },
  {
   "cell_type": "markdown",
   "metadata": {},
   "source": [
    "- 3\n",
    "![](../Photo/44.png)"
   ]
  },
  {
   "cell_type": "code",
   "execution_count": 3,
   "metadata": {},
   "outputs": [
    {
     "name": "stdout",
     "output_type": "stream",
     "text": [
      "输入今天是一周内的那一天，日是0，一是1，二是2，三是3，四是4，五是5，六是60\n",
      "enter the number of days elapsed since today:1\n",
      "today is 日 and the future day is 周一\n"
     ]
    }
   ],
   "source": [
    "a1=eval(input('输入今天是一周内的那一天，日是0，一是1，二是2，三是3，四是4，五是5，六是6'))\n",
    "b1=eval(input('enter the number of days elapsed since today:'))\n",
    "c1=a1+b1\n",
    "d1=c1%7\n",
    "if (d1==0)and(a1==0):\n",
    "    print('today is 日 and the future day is 日')\n",
    "elif (d1==1)and (a1==0):\n",
    "    print('today is 日 and the future day is 周一')\n",
    "elif (d1==2)and (a1==0):\n",
    "     print('today is 日 and the future day is 周二')\n",
    "elif (d1==3) and (a1==0):\n",
    "    print('today is 日 and the future day is 周三')\n",
    "elif (d1==4)and (a1==0):\n",
    "    print('today is 日 and the future day is 周四') \n",
    "elif (d1==5)and (a1==0):\n",
    "    print('today is 日 and the future day is 周五')\n",
    "elif (d1==6)and (a1==0):\n",
    "    print('today is 日 and the future day is 周六')\n",
    "if (d1==0)and(a1==1):\n",
    "    print('today is 一 and the future day is 日')\n",
    "elif (d1==1)and (a1==1):\n",
    "    print('today is 一 and the future day is 周一')\n",
    "elif (d1==2)and (a1==1):\n",
    "     print('today is 一 and the future day is 周二')\n",
    "elif (d1==3) and (a1==1):\n",
    "    print('today is  一 and the future day is 周三')\n",
    "elif (d1==4)and (a1==1):\n",
    "    print('today is  一 and the future day is 周四') \n",
    "elif (d1==5)and (a1==1):\n",
    "    print('today is  一 and the future day is 周五')\n",
    "elif (d1==6)and (a1==1):\n",
    "    print('today is  一 and the future day is 周六')"
   ]
  },
  {
   "cell_type": "markdown",
   "metadata": {},
   "source": [
    "- 4\n",
    "![](../Photo/45.png)"
   ]
  },
  {
   "cell_type": "code",
   "execution_count": 42,
   "metadata": {},
   "outputs": [
    {
     "name": "stdout",
     "output_type": "stream",
     "text": [
      "输入整数a,b,c:4,8,1\n",
      "8 4 1 \n"
     ]
    }
   ],
   "source": [
    "a,b,c = eval(input('输入整数a,b,c:'))\n",
    "if  a>=b>=c:\n",
    "    print('%d %d %d'%(c,b,a))\n",
    "elif b>=a>=c:\n",
    "    print('%d %d %d '%(b,a,c))\n",
    "elif c>=a>=b:\n",
    "    print('%d %d %d '%(c,a,b))\n",
    "elif a>=c>=b:\n",
    "    print('%d %d %d '%(a,c,b))\n",
    "elif b>=c>=a:\n",
    "    print('%d %d %d '%(b,c,a))\n",
    "elif c>=b>=a:\n",
    "    print('%d %d %d '%(c,b,a))"
   ]
  },
  {
   "cell_type": "markdown",
   "metadata": {},
   "source": [
    "- 5\n",
    "![](../Photo/46.png)"
   ]
  },
  {
   "cell_type": "code",
   "execution_count": 2,
   "metadata": {},
   "outputs": [
    {
     "name": "stdout",
     "output_type": "stream",
     "text": [
      "enter weight and price for package 1:50,25.59\n",
      "enter weight and price for package 2:25,11.99\n",
      "package 2 has the better price.\n"
     ]
    }
   ],
   "source": [
    "#a1,b1=input(' 输入两种包装')\n",
    "a1w,a1p=eval(input('enter weight and price for package 1:'))\n",
    "b1w,b1p=eval(input('enter weight and price for package 2:'))\n",
    "if (a1p/a1w)<=(b1p/b1w):\n",
    "    print('package 1 has the better price.')\n",
    "else:\n",
    "    print('package 2 has the better price.') \n"
   ]
  },
  {
   "cell_type": "markdown",
   "metadata": {},
   "source": [
    "- 6\n",
    "![](../Photo/47.png)"
   ]
  },
  {
   "cell_type": "code",
   "execution_count": 8,
   "metadata": {},
   "outputs": [
    {
     "name": "stdout",
     "output_type": "stream",
     "text": [
      "enter year and month:2000\n"
     ]
    },
    {
     "ename": "TypeError",
     "evalue": "'int' object is not iterable",
     "output_type": "error",
     "traceback": [
      "\u001b[1;31m---------------------------------------------------------------------------\u001b[0m",
      "\u001b[1;31mTypeError\u001b[0m                                 Traceback (most recent call last)",
      "\u001b[1;32m<ipython-input-8-b199c38169a2>\u001b[0m in \u001b[0;36m<module>\u001b[1;34m()\u001b[0m\n\u001b[1;32m----> 1\u001b[1;33m \u001b[0ma1\u001b[0m\u001b[1;33m,\u001b[0m\u001b[0mmonth\u001b[0m\u001b[1;33m=\u001b[0m\u001b[0meval\u001b[0m\u001b[1;33m(\u001b[0m\u001b[0minput\u001b[0m\u001b[1;33m(\u001b[0m\u001b[1;34m'enter year and month:'\u001b[0m\u001b[1;33m)\u001b[0m\u001b[1;33m)\u001b[0m\u001b[1;33m\u001b[0m\u001b[0m\n\u001b[0m\u001b[0;32m      2\u001b[0m \u001b[1;32mif\u001b[0m \u001b[1;33m(\u001b[0m\u001b[0ma1\u001b[0m\u001b[1;33m%\u001b[0m\u001b[1;36m4\u001b[0m\u001b[1;33m==\u001b[0m\u001b[1;36m0\u001b[0m\u001b[1;33m)\u001b[0m \u001b[1;32mand\u001b[0m \u001b[1;33m(\u001b[0m\u001b[0ma1\u001b[0m\u001b[1;33m%\u001b[0m\u001b[1;36m100\u001b[0m\u001b[1;33m!=\u001b[0m\u001b[1;36m0\u001b[0m\u001b[1;33m)\u001b[0m  \u001b[1;32mor\u001b[0m \u001b[1;33m(\u001b[0m\u001b[0ma1\u001b[0m\u001b[1;33m%\u001b[0m\u001b[1;36m400\u001b[0m\u001b[1;33m==\u001b[0m\u001b[1;36m0\u001b[0m\u001b[1;33m)\u001b[0m\u001b[1;33m:\u001b[0m\u001b[1;33m\u001b[0m\u001b[0m\n\u001b[0;32m      3\u001b[0m     \u001b[1;32mif\u001b[0m \u001b[0mmonth\u001b[0m\u001b[1;33m==\u001b[0m\u001b[1;36m1\u001b[0m\u001b[1;33m:\u001b[0m\u001b[1;33m\u001b[0m\u001b[0m\n\u001b[0;32m      4\u001b[0m         \u001b[0mprint\u001b[0m\u001b[1;33m(\u001b[0m\u001b[1;34m'%d年二月份为31天'\u001b[0m\u001b[1;33m%\u001b[0m\u001b[0ma1\u001b[0m\u001b[1;33m)\u001b[0m\u001b[1;33m\u001b[0m\u001b[0m\n\u001b[0;32m      5\u001b[0m     \u001b[1;32melif\u001b[0m \u001b[0mmonth\u001b[0m\u001b[1;33m==\u001b[0m\u001b[1;36m2\u001b[0m\u001b[1;33m:\u001b[0m\u001b[1;33m\u001b[0m\u001b[0m\n",
      "\u001b[1;31mTypeError\u001b[0m: 'int' object is not iterable"
     ]
    }
   ],
   "source": [
    "a1,month=eval(input('enter year and month:'))\n",
    "if (a1%4==0) and (a1%100!=0)  or (a1%400==0):\n",
    "    if month==1:\n",
    "        print('%d年二月份为31天'%a1)\n",
    "    elif month==2:\n",
    "            print('%d年二月份为29天'%a1)\n",
    "    elif month==3:\n",
    "            print('%d年3月份为31天'%a1)\n",
    "    elif month==4:\n",
    "            print('%d年4月份为30天'%a1) \n",
    "    elif month==5:\n",
    "            print('%d年5月份为31天'%a1)\n",
    "    elif month==6:\n",
    "            print('%d年6月份为29天'%a1)\n",
    "    elif month==7:\n",
    "            print('%d年7月份为29天'%a1)\n",
    "    elif month==8:\n",
    "            print('%d年8月份为29天'%a1)\n",
    "    elif month==9:\n",
    "            print('%d年9月份为29天'%a1)\n",
    "    elif month==10:\n",
    "            print('%d年10月份为29天'%a1)\n",
    "    elif month==11:\n",
    "            print('%d年11月份为29天'%a1)\n",
    "    elif month==12:\n",
    "            print('%d年12月份为29天'%a1)\n",
    "else:\n",
    "        if month==1:\n",
    "            print('%d年1月份为31天'%a1)\n",
    "        elif month==2:\n",
    "            print('%d年二月份为28天'%a1)\n",
    "        elif month==3:\n",
    "            print('%d年3月份为31天'%a1)\n",
    "        elif month==4:\n",
    "            print('%d年4月份为30天'%a1) \n",
    "        elif month==5:\n",
    "            print('%d年5月份为31天'%a1)\n",
    "        elif month==6:\n",
    "            print('%d年6月份为29天'%a1)\n",
    "        elif month==7:\n",
    "            print('%d年7月份为29天'%a1)\n",
    "        elif month==8:\n",
    "            print('%d年8月份为29天'%a1)\n",
    "        elif month==9:\n",
    "            print('%d年9月份为29天'%a1)\n",
    "        elif month==10:\n",
    "            print('%d年10月份为29天'%a1)\n",
    "        elif month==11:\n",
    "            print('%d年11月份为29天'%a1)\n",
    "        elif month==12:\n",
    "            print('%d年12月份为29天'%a1)"
   ]
  },
  {
   "cell_type": "markdown",
   "metadata": {},
   "source": [
    "- 7\n",
    "![](../Photo/48.png)"
   ]
  },
  {
   "cell_type": "markdown",
   "metadata": {},
   "source": [
    "- 8\n",
    "![](../Photo/49.png)"
   ]
  },
  {
   "cell_type": "markdown",
   "metadata": {},
   "source": [
    "- 9\n",
    "![](../Photo/50.png)"
   ]
  },
  {
   "cell_type": "markdown",
   "metadata": {},
   "source": [
    "- 10\n",
    "![](../Photo/51.png)"
   ]
  },
  {
   "cell_type": "markdown",
   "metadata": {},
   "source": [
    "- 11\n",
    "![](../Photo/52.png)"
   ]
  },
  {
   "cell_type": "markdown",
   "metadata": {},
   "source": [
    "- 12\n",
    "![](../Photo/53.png)"
   ]
  }
 ],
 "metadata": {
  "kernelspec": {
   "display_name": "Python 3",
   "language": "python",
   "name": "python3"
  },
  "language_info": {
   "codemirror_mode": {
    "name": "ipython",
    "version": 3
   },
   "file_extension": ".py",
   "mimetype": "text/x-python",
   "name": "python",
   "nbconvert_exporter": "python",
   "pygments_lexer": "ipython3",
   "version": "3.6.4"
  }
 },
 "nbformat": 4,
 "nbformat_minor": 2
}
