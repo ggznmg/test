{
 "cells": [
  {
   "cell_type": "markdown",
   "metadata": {},
   "source": [
    "# 列表List\n",
    "- 一个列表可以储存任意大小的数据集合，你可以理解为他是一个容器"
   ]
  },
  {
   "cell_type": "code",
   "execution_count": null,
   "metadata": {},
   "outputs": [],
   "source": []
  },
  {
   "cell_type": "markdown",
   "metadata": {},
   "source": [
    "## 先来一个例子爽一爽\n",
    "![](../Photo/115.png)"
   ]
  },
  {
   "cell_type": "code",
   "execution_count": 2,
   "metadata": {},
   "outputs": [
    {
     "name": "stdout",
     "output_type": "stream",
     "text": [
      "enter a new number:6\n",
      "enter a new number:7\n",
      "enter a new number:3\n",
      "enter a new number:4\n",
      "enter a new number:5\n",
      "average is 5.0\n",
      "num of element above the average is  2\n"
     ]
    }
   ],
   "source": [
    "Num=5\n",
    "number=[]\n",
    "sum=0\n",
    "for i in range(Num):\n",
    "    value = eval(input('enter a new number:'))\n",
    "    number.append(value)\n",
    "    sum+=value\n",
    "average=sum/Num\n",
    "count=0\n",
    "for i in range(Num):\n",
    "    if  number[i]>average:\n",
    "        count+=1\n",
    "print('average is',average)\n",
    "print('num of element above the average is ',count)"
   ]
  },
  {
   "cell_type": "markdown",
   "metadata": {},
   "source": [
    "## 创建一个列表\n",
    "- a = [1,2,3,4,5]"
   ]
  },
  {
   "cell_type": "code",
   "execution_count": 12,
   "metadata": {},
   "outputs": [
    {
     "name": "stdout",
     "output_type": "stream",
     "text": [
      "[1, 2, [1, 2, 3], 3, 4, 5, True]\n"
     ]
    },
    {
     "data": {
      "text/plain": [
       "list"
      ]
     },
     "execution_count": 12,
     "metadata": {},
     "output_type": "execute_result"
    }
   ],
   "source": [
    "num=[]\n",
    "a=[1,2,[1,2,3,],3,4,5,True]\n",
    "for i  in a:\n",
    "    num.append(i)\n",
    "print(num)\n",
    "type(a)"
   ]
  },
  {
   "cell_type": "code",
   "execution_count": 13,
   "metadata": {},
   "outputs": [
    {
     "data": {
      "text/plain": [
       "['a', 's', 'd', 'f']"
      ]
     },
     "execution_count": 13,
     "metadata": {},
     "output_type": "execute_result"
    }
   ],
   "source": [
    "list('asdf')"
   ]
  },
  {
   "cell_type": "code",
   "execution_count": 15,
   "metadata": {},
   "outputs": [
    {
     "data": {
      "text/plain": [
       "[1, 2, 3]"
      ]
     },
     "execution_count": 15,
     "metadata": {},
     "output_type": "execute_result"
    }
   ],
   "source": [
    "list([1,2,3])"
   ]
  },
  {
   "cell_type": "markdown",
   "metadata": {},
   "source": [
    "## 列表的一般操作\n",
    "![](../Photo/116.png)"
   ]
  },
  {
   "cell_type": "code",
   "execution_count": 17,
   "metadata": {},
   "outputs": [
    {
     "data": {
      "text/plain": [
       "True"
      ]
     },
     "execution_count": 17,
     "metadata": {},
     "output_type": "execute_result"
    }
   ],
   "source": [
    "a2=[1,2,3,'haha',True]\n",
    "100 not in a2"
   ]
  },
  {
   "cell_type": "code",
   "execution_count": 18,
   "metadata": {},
   "outputs": [
    {
     "data": {
      "text/plain": [
       "[1, 2, 3, 'haha', True, 100, 200, 300, 'lala', False]"
      ]
     },
     "execution_count": 18,
     "metadata": {},
     "output_type": "execute_result"
    }
   ],
   "source": [
    "a3=[100,200,300,'lala',False]\n",
    "a2+a3"
   ]
  },
  {
   "cell_type": "code",
   "execution_count": 19,
   "metadata": {},
   "outputs": [
    {
     "data": {
      "text/plain": [
       "[1, 2, 3, 'haha', True, 1, 2, 3, 'haha', True, 1, 2, 3, 'haha', True]"
      ]
     },
     "execution_count": 19,
     "metadata": {},
     "output_type": "execute_result"
    }
   ],
   "source": [
    "a2*3"
   ]
  },
  {
   "cell_type": "code",
   "execution_count": 20,
   "metadata": {
    "collapsed": true
   },
   "outputs": [
    {
     "data": {
      "text/plain": [
       "[1,\n",
       " 2,\n",
       " 3,\n",
       " 'haha',\n",
       " True,\n",
       " 1,\n",
       " 2,\n",
       " 3,\n",
       " 'haha',\n",
       " True,\n",
       " 1,\n",
       " 2,\n",
       " 3,\n",
       " 'haha',\n",
       " True,\n",
       " 1,\n",
       " 2,\n",
       " 3,\n",
       " 'haha',\n",
       " True,\n",
       " 1,\n",
       " 2,\n",
       " 3,\n",
       " 'haha',\n",
       " True,\n",
       " 1,\n",
       " 2,\n",
       " 3,\n",
       " 'haha',\n",
       " True,\n",
       " 1,\n",
       " 2,\n",
       " 3,\n",
       " 'haha',\n",
       " True,\n",
       " 1,\n",
       " 2,\n",
       " 3,\n",
       " 'haha',\n",
       " True,\n",
       " 1,\n",
       " 2,\n",
       " 3,\n",
       " 'haha',\n",
       " True,\n",
       " 1,\n",
       " 2,\n",
       " 3,\n",
       " 'haha',\n",
       " True,\n",
       " 1,\n",
       " 2,\n",
       " 3,\n",
       " 'haha',\n",
       " True,\n",
       " 1,\n",
       " 2,\n",
       " 3,\n",
       " 'haha',\n",
       " True,\n",
       " 1,\n",
       " 2,\n",
       " 3,\n",
       " 'haha',\n",
       " True,\n",
       " 1,\n",
       " 2,\n",
       " 3,\n",
       " 'haha',\n",
       " True,\n",
       " 1,\n",
       " 2,\n",
       " 3,\n",
       " 'haha',\n",
       " True,\n",
       " 1,\n",
       " 2,\n",
       " 3,\n",
       " 'haha',\n",
       " True,\n",
       " 1,\n",
       " 2,\n",
       " 3,\n",
       " 'haha',\n",
       " True,\n",
       " 1,\n",
       " 2,\n",
       " 3,\n",
       " 'haha',\n",
       " True,\n",
       " 1,\n",
       " 2,\n",
       " 3,\n",
       " 'haha',\n",
       " True,\n",
       " 1,\n",
       " 2,\n",
       " 3,\n",
       " 'haha',\n",
       " True,\n",
       " 1,\n",
       " 2,\n",
       " 3,\n",
       " 'haha',\n",
       " True,\n",
       " 1,\n",
       " 2,\n",
       " 3,\n",
       " 'haha',\n",
       " True,\n",
       " 1,\n",
       " 2,\n",
       " 3,\n",
       " 'haha',\n",
       " True,\n",
       " 1,\n",
       " 2,\n",
       " 3,\n",
       " 'haha',\n",
       " True,\n",
       " 1,\n",
       " 2,\n",
       " 3,\n",
       " 'haha',\n",
       " True,\n",
       " 1,\n",
       " 2,\n",
       " 3,\n",
       " 'haha',\n",
       " True,\n",
       " 1,\n",
       " 2,\n",
       " 3,\n",
       " 'haha',\n",
       " True,\n",
       " 1,\n",
       " 2,\n",
       " 3,\n",
       " 'haha',\n",
       " True,\n",
       " 1,\n",
       " 2,\n",
       " 3,\n",
       " 'haha',\n",
       " True,\n",
       " 1,\n",
       " 2,\n",
       " 3,\n",
       " 'haha',\n",
       " True,\n",
       " 1,\n",
       " 2,\n",
       " 3,\n",
       " 'haha',\n",
       " True,\n",
       " 1,\n",
       " 2,\n",
       " 3,\n",
       " 'haha',\n",
       " True,\n",
       " 1,\n",
       " 2,\n",
       " 3,\n",
       " 'haha',\n",
       " True,\n",
       " 1,\n",
       " 2,\n",
       " 3,\n",
       " 'haha',\n",
       " True,\n",
       " 1,\n",
       " 2,\n",
       " 3,\n",
       " 'haha',\n",
       " True,\n",
       " 1,\n",
       " 2,\n",
       " 3,\n",
       " 'haha',\n",
       " True,\n",
       " 1,\n",
       " 2,\n",
       " 3,\n",
       " 'haha',\n",
       " True,\n",
       " 1,\n",
       " 2,\n",
       " 3,\n",
       " 'haha',\n",
       " True,\n",
       " 1,\n",
       " 2,\n",
       " 3,\n",
       " 'haha',\n",
       " True,\n",
       " 1,\n",
       " 2,\n",
       " 3,\n",
       " 'haha',\n",
       " True,\n",
       " 1,\n",
       " 2,\n",
       " 3,\n",
       " 'haha',\n",
       " True,\n",
       " 1,\n",
       " 2,\n",
       " 3,\n",
       " 'haha',\n",
       " True,\n",
       " 1,\n",
       " 2,\n",
       " 3,\n",
       " 'haha',\n",
       " True,\n",
       " 1,\n",
       " 2,\n",
       " 3,\n",
       " 'haha',\n",
       " True,\n",
       " 1,\n",
       " 2,\n",
       " 3,\n",
       " 'haha',\n",
       " True,\n",
       " 1,\n",
       " 2,\n",
       " 3,\n",
       " 'haha',\n",
       " True,\n",
       " 1,\n",
       " 2,\n",
       " 3,\n",
       " 'haha',\n",
       " True,\n",
       " 1,\n",
       " 2,\n",
       " 3,\n",
       " 'haha',\n",
       " True,\n",
       " 1,\n",
       " 2,\n",
       " 3,\n",
       " 'haha',\n",
       " True,\n",
       " 1,\n",
       " 2,\n",
       " 3,\n",
       " 'haha',\n",
       " True]"
      ]
     },
     "execution_count": 20,
     "metadata": {},
     "output_type": "execute_result"
    }
   ],
   "source": [
    "a2*50"
   ]
  },
  {
   "cell_type": "code",
   "execution_count": 29,
   "metadata": {},
   "outputs": [
    {
     "data": {
      "text/plain": [
       "5"
      ]
     },
     "execution_count": 29,
     "metadata": {},
     "output_type": "execute_result"
    }
   ],
   "source": [
    "len(a2)"
   ]
  },
  {
   "cell_type": "code",
   "execution_count": 1,
   "metadata": {},
   "outputs": [
    {
     "data": {
      "text/plain": [
       "15"
      ]
     },
     "execution_count": 1,
     "metadata": {},
     "output_type": "execute_result"
    }
   ],
   "source": [
    "a4=[1,2,3,4,5]\n",
    "sum(a4)"
   ]
  },
  {
   "cell_type": "code",
   "execution_count": 3,
   "metadata": {},
   "outputs": [
    {
     "name": "stdout",
     "output_type": "stream",
     "text": [
      "15\n"
     ]
    }
   ],
   "source": [
    "summ=0\n",
    "for i in a4:\n",
    "    summ=summ+i\n",
    "print(summ)"
   ]
  },
  {
   "cell_type": "code",
   "execution_count": 5,
   "metadata": {},
   "outputs": [
    {
     "data": {
      "text/plain": [
       "False"
      ]
     },
     "execution_count": 5,
     "metadata": {},
     "output_type": "execute_result"
    }
   ],
   "source": [
    "a5=[1,2,3]\n",
    "a6=[1,5]\n",
    "a5==a6"
   ]
  },
  {
   "cell_type": "markdown",
   "metadata": {},
   "source": [
    "## 列表索引操作\n",
    "- Mylist[index]\n",
    "- 正序索引，逆序索引\n",
    "- 列表一定注意越界\n",
    "- ![](../Photo/117.png)"
   ]
  },
  {
   "cell_type": "code",
   "execution_count": 11,
   "metadata": {},
   "outputs": [
    {
     "name": "stdout",
     "output_type": "stream",
     "text": [
      "发生未知错误\n"
     ]
    }
   ],
   "source": [
    "\n",
    "try:\n",
    "    a2[3]\n",
    "except Exception as e:\n",
    "    print('发生未知错误')"
   ]
  },
  {
   "cell_type": "markdown",
   "metadata": {},
   "source": [
    "## 列表切片操作\n",
    "- Mylist[start:end]\n",
    "- 正序切片，逆序切片"
   ]
  },
  {
   "cell_type": "markdown",
   "metadata": {},
   "source": [
    "## 列表 +、*、in 、not in"
   ]
  },
  {
   "cell_type": "markdown",
   "metadata": {},
   "source": [
    "## 使用for循环遍历元素\n",
    "- for 循环可以遍历一切可迭代元素"
   ]
  },
  {
   "cell_type": "markdown",
   "metadata": {},
   "source": [
    "## EP：\n",
    "- 使用while 循环遍历列表"
   ]
  },
  {
   "cell_type": "markdown",
   "metadata": {},
   "source": [
    "## 列表的比较\n",
    "- \\>,<,>=,<=,==,!="
   ]
  },
  {
   "cell_type": "markdown",
   "metadata": {},
   "source": [
    "## 列表生成式\n",
    "[x for x in range(10)]"
   ]
  },
  {
   "cell_type": "code",
   "execution_count": 1,
   "metadata": {},
   "outputs": [
    {
     "name": "stdout",
     "output_type": "stream",
     "text": [
      "10\n"
     ]
    }
   ],
   "source": [
    "(lambda x : print(x))(10)"
   ]
  },
  {
   "cell_type": "code",
   "execution_count": 3,
   "metadata": {},
   "outputs": [
    {
     "data": {
      "text/plain": [
       "[0, 2, 4, 6, 8]"
      ]
     },
     "execution_count": 3,
     "metadata": {},
     "output_type": "execute_result"
    }
   ],
   "source": [
    "a=[x for x in range(10) if x%2==0]\n",
    "a"
   ]
  },
  {
   "cell_type": "code",
   "execution_count": 4,
   "metadata": {
    "collapsed": true
   },
   "outputs": [
    {
     "data": {
      "text/plain": [
       "[0,\n",
       " 2,\n",
       " 4,\n",
       " 6,\n",
       " 8,\n",
       " 10,\n",
       " 12,\n",
       " 14,\n",
       " 16,\n",
       " 18,\n",
       " 20,\n",
       " 22,\n",
       " 24,\n",
       " 26,\n",
       " 28,\n",
       " 30,\n",
       " 32,\n",
       " 34,\n",
       " 36,\n",
       " 38,\n",
       " 40,\n",
       " 42,\n",
       " 44,\n",
       " 46,\n",
       " 48,\n",
       " 50,\n",
       " 52,\n",
       " 54,\n",
       " 56,\n",
       " 58,\n",
       " 60,\n",
       " 62,\n",
       " 64,\n",
       " 66,\n",
       " 68,\n",
       " 70,\n",
       " 72,\n",
       " 74,\n",
       " 76,\n",
       " 78,\n",
       " 80,\n",
       " 82,\n",
       " 84,\n",
       " 86,\n",
       " 88,\n",
       " 90,\n",
       " 92,\n",
       " 94,\n",
       " 96,\n",
       " 98]"
      ]
     },
     "execution_count": 4,
     "metadata": {},
     "output_type": "execute_result"
    }
   ],
   "source": [
    "a=[x for x in range(100) if x%2==0]\n",
    "a"
   ]
  },
  {
   "cell_type": "code",
   "execution_count": 7,
   "metadata": {},
   "outputs": [
    {
     "data": {
      "text/plain": [
       "1"
      ]
     },
     "execution_count": 7,
     "metadata": {},
     "output_type": "execute_result"
    }
   ],
   "source": [
    "a=(x for x in range(10))\n",
    "next(a)\n",
    "next(a)"
   ]
  },
  {
   "cell_type": "code",
   "execution_count": 8,
   "metadata": {},
   "outputs": [],
   "source": [
    "def test():\n",
    "    yield \"hahahh\""
   ]
  },
  {
   "cell_type": "code",
   "execution_count": 9,
   "metadata": {},
   "outputs": [
    {
     "data": {
      "text/plain": [
       "'hahahh'"
      ]
     },
     "execution_count": 9,
     "metadata": {},
     "output_type": "execute_result"
    }
   ],
   "source": [
    "a1=test()\n",
    "next(a1)"
   ]
  },
  {
   "cell_type": "markdown",
   "metadata": {},
   "source": [
    "## 列表的方法\n",
    "![](../Photo/118.png)"
   ]
  },
  {
   "cell_type": "code",
   "execution_count": 12,
   "metadata": {},
   "outputs": [
    {
     "data": {
      "text/plain": [
       "[0, 1, 2, 3, 4, 5, 6, 7, 8, 9, 10]"
      ]
     },
     "execution_count": 12,
     "metadata": {},
     "output_type": "execute_result"
    }
   ],
   "source": [
    "a=[x for x in range(10)]\n",
    "a.append(10)\n",
    "a"
   ]
  },
  {
   "cell_type": "code",
   "execution_count": 13,
   "metadata": {},
   "outputs": [
    {
     "data": {
      "text/plain": [
       "[0, 1, 2, 3, 4, 5, 6, 7, 8, 9, 'j', 'o', 'k', 'e', 'r']"
      ]
     },
     "execution_count": 13,
     "metadata": {},
     "output_type": "execute_result"
    }
   ],
   "source": [
    "a=[x for x in range(10)]\n",
    "for i in 'joker':\n",
    "    a.append(i)\n",
    "a"
   ]
  },
  {
   "cell_type": "code",
   "execution_count": 16,
   "metadata": {},
   "outputs": [
    {
     "data": {
      "text/plain": [
       "['j', 'o', 'k', 'e', 'r']"
      ]
     },
     "execution_count": 16,
     "metadata": {},
     "output_type": "execute_result"
    }
   ],
   "source": [
    "b=[x for x in 'joker']\n",
    "b"
   ]
  },
  {
   "cell_type": "code",
   "execution_count": 17,
   "metadata": {},
   "outputs": [
    {
     "data": {
      "text/plain": [
       "1"
      ]
     },
     "execution_count": 17,
     "metadata": {},
     "output_type": "execute_result"
    }
   ],
   "source": [
    "b.count('r')"
   ]
  },
  {
   "cell_type": "code",
   "execution_count": 18,
   "metadata": {},
   "outputs": [],
   "source": [
    "b.extend(b)"
   ]
  },
  {
   "cell_type": "code",
   "execution_count": 19,
   "metadata": {},
   "outputs": [
    {
     "data": {
      "text/plain": [
       "['j', 'o', 'k', 'e', 'r', 'j', 'o', 'k', 'e', 'r']"
      ]
     },
     "execution_count": 19,
     "metadata": {},
     "output_type": "execute_result"
    }
   ],
   "source": [
    "b"
   ]
  },
  {
   "cell_type": "code",
   "execution_count": 21,
   "metadata": {},
   "outputs": [
    {
     "data": {
      "text/plain": [
       "0"
      ]
     },
     "execution_count": 21,
     "metadata": {},
     "output_type": "execute_result"
    }
   ],
   "source": [
    "b.index('j')"
   ]
  },
  {
   "cell_type": "code",
   "execution_count": 24,
   "metadata": {},
   "outputs": [],
   "source": [
    "b.insert(4,[1,2,3])"
   ]
  },
  {
   "cell_type": "code",
   "execution_count": 25,
   "metadata": {},
   "outputs": [
    {
     "data": {
      "text/plain": [
       "[[1, 2, 3], 'j', 'o', 'k', [1, 2, 3], 'e', 'r', 'j', 'o', 'k', 'e', 'r']"
      ]
     },
     "execution_count": 25,
     "metadata": {},
     "output_type": "execute_result"
    }
   ],
   "source": [
    "b"
   ]
  },
  {
   "cell_type": "code",
   "execution_count": 27,
   "metadata": {},
   "outputs": [
    {
     "data": {
      "text/plain": [
       "[[1, 2, 3], 'o', 'k', [1, 2, 3], 'e', 'r', 'o', 'k', 'e', 'r']"
      ]
     },
     "execution_count": 27,
     "metadata": {},
     "output_type": "execute_result"
    }
   ],
   "source": [
    "b.remove('j')\n",
    "b"
   ]
  },
  {
   "cell_type": "code",
   "execution_count": 28,
   "metadata": {},
   "outputs": [
    {
     "data": {
      "text/plain": [
       "[3, 2, 1]"
      ]
     },
     "execution_count": 28,
     "metadata": {},
     "output_type": "execute_result"
    }
   ],
   "source": [
    "b1=[1,2,3]\n",
    "b1.reverse()\n",
    "b1"
   ]
  },
  {
   "cell_type": "code",
   "execution_count": 32,
   "metadata": {
    "collapsed": true
   },
   "outputs": [
    {
     "name": "stdout",
     "output_type": "stream",
     "text": [
      "99\n",
      "98\n",
      "97\n",
      "96\n",
      "95\n",
      "94\n",
      "93\n",
      "92\n",
      "91\n",
      "90\n",
      "89\n",
      "88\n",
      "87\n",
      "86\n",
      "85\n",
      "84\n",
      "83\n",
      "82\n",
      "81\n",
      "80\n",
      "79\n",
      "78\n",
      "77\n",
      "76\n",
      "75\n",
      "74\n",
      "73\n",
      "72\n",
      "71\n",
      "70\n",
      "69\n",
      "68\n",
      "67\n",
      "66\n",
      "65\n",
      "64\n",
      "63\n",
      "62\n",
      "61\n",
      "60\n",
      "59\n",
      "58\n",
      "57\n",
      "56\n",
      "55\n",
      "54\n",
      "53\n",
      "52\n",
      "51\n",
      "50\n",
      "49\n",
      "48\n",
      "47\n",
      "46\n",
      "45\n",
      "44\n",
      "43\n",
      "42\n",
      "41\n",
      "40\n",
      "39\n",
      "38\n",
      "37\n",
      "36\n",
      "35\n",
      "34\n",
      "33\n",
      "32\n",
      "31\n",
      "30\n",
      "29\n",
      "28\n",
      "27\n",
      "26\n",
      "25\n",
      "24\n",
      "23\n",
      "22\n",
      "21\n",
      "20\n",
      "19\n",
      "18\n",
      "17\n",
      "16\n",
      "15\n",
      "14\n",
      "13\n",
      "12\n",
      "11\n",
      "10\n",
      "9\n",
      "8\n",
      "7\n",
      "6\n",
      "5\n",
      "4\n",
      "3\n",
      "2\n",
      "1\n"
     ]
    }
   ],
   "source": [
    "a=[x for x in range(100)]\n",
    "for j in range(1,len(a)):\n",
    "    print(a[len(a)-j])"
   ]
  },
  {
   "cell_type": "code",
   "execution_count": 34,
   "metadata": {},
   "outputs": [
    {
     "data": {
      "text/plain": [
       "[9, 5, 4, 1, 0]"
      ]
     },
     "execution_count": 34,
     "metadata": {},
     "output_type": "execute_result"
    }
   ],
   "source": [
    "b2=[0,5,1,4,9]\n",
    "b2.sort(reverse=True)\n",
    "b2"
   ]
  },
  {
   "cell_type": "code",
   "execution_count": 38,
   "metadata": {},
   "outputs": [
    {
     "data": {
      "text/plain": [
       "[0, 1, 4, 5, 9]"
      ]
     },
     "execution_count": 38,
     "metadata": {},
     "output_type": "execute_result"
    }
   ],
   "source": [
    "b2=[0,5,1,4,9]\n",
    "b2.sort()\n",
    "b2"
   ]
  },
  {
   "cell_type": "code",
   "execution_count": 35,
   "metadata": {},
   "outputs": [
    {
     "data": {
      "text/plain": [
       "[0, 1, 4, 5, 9]"
      ]
     },
     "execution_count": 35,
     "metadata": {},
     "output_type": "execute_result"
    }
   ],
   "source": [
    "b2=[0,5,1,4,9]\n",
    "for i in range(len(b2)):\n",
    "    for j in range(i,len(b2)):\n",
    "        if b2[i]>b2[j]:\n",
    "            b2[i],b2[j]=b2[j],b2[i]\n",
    "b2"
   ]
  },
  {
   "cell_type": "code",
   "execution_count": 3,
   "metadata": {},
   "outputs": [
    {
     "data": {
      "text/plain": [
       "[['xiaohua', 1, ['c', 0]],\n",
       " ['xiaoming', 28, ['b', 1]],\n",
       " ['joker', 180, ['a', 5]],\n",
       " ['xiaoli', 16, ['d', 5]]]"
      ]
     },
     "execution_count": 3,
     "metadata": {},
     "output_type": "execute_result"
    }
   ],
   "source": [
    "b3=[['joker',180,['a',5]],['xiaoming',28,['b',1]],['xiaohua',1,['c',0],],['xiaoli',16,['d',5],]]\n",
    "b3.sort(key=lambda x:x[2][1])\n",
    "b3"
   ]
  },
  {
   "cell_type": "code",
   "execution_count": 4,
   "metadata": {},
   "outputs": [
    {
     "data": {
      "text/plain": [
       "[['joker', 180, ['a', 5]],\n",
       " ['xiaohua', 1, ['c', 0]],\n",
       " ['xiaoli', 16, ['d', 5]],\n",
       " ['xiaoming', 28, ['b', 1]]]"
      ]
     },
     "execution_count": 4,
     "metadata": {},
     "output_type": "execute_result"
    }
   ],
   "source": [
    "sorted(b3,key=lambda x: x[0],reverse=False)"
   ]
  },
  {
   "cell_type": "code",
   "execution_count": 6,
   "metadata": {},
   "outputs": [
    {
     "data": {
      "text/plain": [
       "3"
      ]
     },
     "execution_count": 6,
     "metadata": {},
     "output_type": "execute_result"
    }
   ],
   "source": [
    "b4=[1,2,3]\n",
    "b4.pop()"
   ]
  },
  {
   "cell_type": "code",
   "execution_count": 7,
   "metadata": {},
   "outputs": [
    {
     "data": {
      "text/plain": [
       "[1, 2]"
      ]
     },
     "execution_count": 7,
     "metadata": {},
     "output_type": "execute_result"
    }
   ],
   "source": [
    "b4\n"
   ]
  },
  {
   "cell_type": "markdown",
   "metadata": {},
   "source": [
    "## 将字符串分割成列表\n",
    "- split  按照自定义的内容拆分"
   ]
  },
  {
   "cell_type": "code",
   "execution_count": 25,
   "metadata": {},
   "outputs": [
    {
     "data": {
      "text/plain": [
       "['a', 'bc', 'd']"
      ]
     },
     "execution_count": 25,
     "metadata": {},
     "output_type": "execute_result"
    }
   ],
   "source": [
    "b5='a,bc,d'\n",
    "b5.split(',')"
   ]
  },
  {
   "cell_type": "markdown",
   "metadata": {},
   "source": [
    "## EP:\n",
    "![](../Photo/119.png)\n",
    "![](../Photo/120.png)"
   ]
  },
  {
   "cell_type": "code",
   "execution_count": 18,
   "metadata": {},
   "outputs": [
    {
     "data": {
      "text/plain": [
       "[1, 30, 0, 2, 1]"
      ]
     },
     "execution_count": 18,
     "metadata": {},
     "output_type": "execute_result"
    }
   ],
   "source": [
    "import random\n",
    "lst=[30,1,2,1,0]\n",
    "random.shuffle(lst)\n",
    "lst"
   ]
  },
  {
   "cell_type": "markdown",
   "metadata": {},
   "source": [
    "## 列表的复制\n",
    "- copy 浅复制\n",
    "- deepcopy import copy  深复制\n",
    "- http://www.pythontutor.com/visualize.html#mode=edit"
   ]
  },
  {
   "cell_type": "code",
   "execution_count": 10,
   "metadata": {},
   "outputs": [
    {
     "data": {
      "text/plain": [
       "[1, 2, 3, [100, 200]]"
      ]
     },
     "execution_count": 10,
     "metadata": {},
     "output_type": "execute_result"
    }
   ],
   "source": [
    "b5=[1,2,3,[100,200]]\n",
    "b6=b5.copy()\n",
    "b6"
   ]
  },
  {
   "cell_type": "code",
   "execution_count": 9,
   "metadata": {},
   "outputs": [
    {
     "data": {
      "text/plain": [
       "[100, 2, 3]"
      ]
     },
     "execution_count": 9,
     "metadata": {},
     "output_type": "execute_result"
    }
   ],
   "source": [
    "b6[0]=100\n",
    "b6"
   ]
  },
  {
   "cell_type": "code",
   "execution_count": 11,
   "metadata": {},
   "outputs": [
    {
     "data": {
      "text/plain": [
       "[1, 2, 3, [100, 200]]"
      ]
     },
     "execution_count": 11,
     "metadata": {},
     "output_type": "execute_result"
    }
   ],
   "source": [
    "b5"
   ]
  },
  {
   "cell_type": "code",
   "execution_count": 12,
   "metadata": {},
   "outputs": [
    {
     "data": {
      "text/plain": [
       "[1, 2, 3, [100, 1000]]"
      ]
     },
     "execution_count": 12,
     "metadata": {},
     "output_type": "execute_result"
    }
   ],
   "source": [
    "b6[3][1]=1000\n",
    "b6"
   ]
  },
  {
   "cell_type": "code",
   "execution_count": 13,
   "metadata": {},
   "outputs": [
    {
     "data": {
      "text/plain": [
       "[1, 2, 3, [100, 1000]]"
      ]
     },
     "execution_count": 13,
     "metadata": {},
     "output_type": "execute_result"
    }
   ],
   "source": [
    "b5"
   ]
  },
  {
   "cell_type": "code",
   "execution_count": 14,
   "metadata": {},
   "outputs": [
    {
     "data": {
      "text/plain": [
       "[1, 2, 3, [100, 200]]"
      ]
     },
     "execution_count": 14,
     "metadata": {},
     "output_type": "execute_result"
    }
   ],
   "source": [
    "import copy\n",
    "b5=[1,2,3,[100,200]]\n",
    "b6=copy.deepcopy(b5)\n",
    "b6"
   ]
  },
  {
   "cell_type": "code",
   "execution_count": null,
   "metadata": {},
   "outputs": [],
   "source": []
  },
  {
   "cell_type": "markdown",
   "metadata": {},
   "source": [
    "## 列表排序\n",
    "- sort\n",
    "- sorted\n",
    "- 列表的多级排序\n",
    "    - 匿名函数"
   ]
  },
  {
   "cell_type": "markdown",
   "metadata": {},
   "source": [
    "## EP：\n",
    "- 手动排序该列表[5,3,8,0,17]，以升序或者降序"
   ]
  },
  {
   "cell_type": "markdown",
   "metadata": {},
   "source": [
    "- 1\n",
    "![](../Photo/121.png)"
   ]
  },
  {
   "cell_type": "code",
   "execution_count": 36,
   "metadata": {},
   "outputs": [
    {
     "name": "stdout",
     "output_type": "stream",
     "text": [
      "['学生成绩1', '学生成绩2', 'Sheet3']\n",
      "学生成绩1 4 8\n",
      "['学号', '姓名', '成绩1', '成绩2']\n",
      "[2017201100, '李**', 90, 80]\n",
      "[2017201101, '郭**', 80, 40]\n",
      "[2017201102, '张**', 70, 60]\n",
      "[2017201103, '任**', 60, 100]\n",
      "[2017201104, '云**', 50, 75]\n",
      "[2017201105, '刘**', 75, 66]\n",
      "[2017201106, '尚**', 65, 90]\n"
     ]
    }
   ],
   "source": [
    "from openpyxl.reader.excel import load_workbook\n",
    "file = load_workbook(filename=\"C:\\\\Users\\\\Administrator\\\\Desktop\\\\AAA.xlsx\")\n",
    "name_list=file.sheetnames # 获取工作表名字\n",
    "print(name_list)\n",
    "sheet = file[name_list[0]]\n",
    "#    工作表名字     使用的最大列，       使用的最大的行\n",
    "print(sheet.title,sheet.max_column,sheet.max_row)\n",
    "# a = sheet.cell(row=12,column=4).value  # 获取某行某列的具体值\n",
    "# print(a)\n",
    "# 遍历整个sheet表\n",
    "for row in range(1,sheet.max_row+1):\n",
    "    row_list = []\n",
    "    for column in range(1,sheet.max_column+1):\n",
    "        cell = sheet.cell(row=row,column=column).value\n",
    "        #if cell:\n",
    "        row_list.append(cell)\n",
    "    print(row_list)\n",
    "    "
   ]
  },
  {
   "cell_type": "code",
   "execution_count": 46,
   "metadata": {},
   "outputs": [
    {
     "name": "stdout",
     "output_type": "stream",
     "text": [
      "enter scores:40,55,70,58\n",
      "['40', '55', '58', '70']\n",
      "srudent 0 score is 40and grade is F\n",
      "srudent 1 score is 55and grade is F\n",
      "srudent 2 score is 58and grade is F\n",
      "srudent 3 score is 70and grade is C\n"
     ]
    }
   ],
   "source": [
    "a1=input('enter scores:')\n",
    "a1=a1.split(',')\n",
    "b1=len(a1)\n",
    "a1.sort()\n",
    "print(a1)\n",
    "for i in range(0,b1):\n",
    "    if a1[i]>='90':\n",
    "         print('srudent '+str(i)+' score is '+a1[i]+'and grade is A')\n",
    "    elif a1[i]>='80':\n",
    "         print('srudent '+str(i)+' score is '+a1[i]+'and grade is B')\n",
    "    elif a1[i]>='70':\n",
    "        print('srudent '+str(i)+' score is '+a1[i]+'and grade is C')\n",
    "    elif a1[i]>='60':\n",
    "        print('srudent '+str(i)+' score is '+a1[i]+'and grade is D')\n",
    "    else:\n",
    "        print('srudent '+str(i)+' score is '+a1[i]+'and grade is F')               \n",
    "         \n"
   ]
  },
  {
   "cell_type": "markdown",
   "metadata": {},
   "source": [
    "- 2\n",
    "![](../Photo/122.png)"
   ]
  },
  {
   "cell_type": "code",
   "execution_count": 47,
   "metadata": {},
   "outputs": [
    {
     "data": {
      "text/plain": [
       "[9, 0, 1, 8, 5, 4]"
      ]
     },
     "execution_count": 47,
     "metadata": {},
     "output_type": "execute_result"
    }
   ],
   "source": [
    "a1=[4,5,8,1,0,9]\n",
    "a1.reverse()\n",
    "a1"
   ]
  },
  {
   "cell_type": "markdown",
   "metadata": {},
   "source": [
    "- 3\n",
    "![](../Photo/123.png)"
   ]
  },
  {
   "cell_type": "code",
   "execution_count": 15,
   "metadata": {},
   "outputs": [
    {
     "name": "stdout",
     "output_type": "stream",
     "text": [
      "enter inters between 1and 100:2,2,3,3,4\n",
      "['2', '2', '3', '3', '4']\n",
      "{'2': 2, '3': 2, '4': 1}\n",
      "('2', 2)\n",
      "2occurs 2times\n",
      "('3', 2)\n",
      "3occurs 2times\n",
      "('4', 1)\n",
      "4occurs 1times\n"
     ]
    }
   ],
   "source": [
    "i=1\n",
    "a1=input('enter inters between 1and 100:')\n",
    "a1=a1.split(',')\n",
    "a1.sort()\n",
    "print(a1)\n",
    "a2={}\n",
    "for i in a1:\n",
    "    b1=a1.count(i)\n",
    "    a2[i] = b1\n",
    "print(a2)\n",
    "#     print(str(i)+'occurs '+str(b1)+'times')  \n",
    "for i in a2.items():\n",
    "        print(i)\n",
    "        print(i[0]+'occurs '+str(i[1])+'times')  "
   ]
  },
  {
   "cell_type": "markdown",
   "metadata": {},
   "source": [
    "- 4\n",
    "![](../Photo/124.png)"
   ]
  },
  {
   "cell_type": "markdown",
   "metadata": {},
   "source": [
    "- 5\n",
    "![](../Photo/125.png)"
   ]
  },
  {
   "cell_type": "markdown",
   "metadata": {},
   "source": [
    "- 6\n",
    "![](../Photo/126.png)"
   ]
  },
  {
   "cell_type": "markdown",
   "metadata": {},
   "source": [
    "- 7\n",
    "![](../Photo/127.png)\n",
    "![](../Photo/128.png)"
   ]
  },
  {
   "cell_type": "markdown",
   "metadata": {},
   "source": [
    "- 8\n",
    "![](../Photo/129.png)"
   ]
  },
  {
   "cell_type": "markdown",
   "metadata": {},
   "source": [
    "- 9\n",
    "![](../Photo/130.png)"
   ]
  },
  {
   "cell_type": "markdown",
   "metadata": {},
   "source": [
    "- 10\n",
    "![](../Photo/131.png)"
   ]
  },
  {
   "cell_type": "markdown",
   "metadata": {},
   "source": [
    "- 11\n",
    "![](../Photo/132.png)"
   ]
  },
  {
   "cell_type": "markdown",
   "metadata": {},
   "source": [
    "- 12\n",
    "![](../Photo/133.png)"
   ]
  }
 ],
 "metadata": {
  "kernelspec": {
   "display_name": "Python 3",
   "language": "python",
   "name": "python3"
  },
  "language_info": {
   "codemirror_mode": {
    "name": "ipython",
    "version": 3
   },
   "file_extension": ".py",
   "mimetype": "text/x-python",
   "name": "python",
   "nbconvert_exporter": "python",
   "pygments_lexer": "ipython3",
   "version": "3.6.4"
  }
 },
 "nbformat": 4,
 "nbformat_minor": 2
}
