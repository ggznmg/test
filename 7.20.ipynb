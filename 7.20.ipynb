{
 "cells": [
  {
   "cell_type": "markdown",
   "metadata": {},
   "source": [
    "# 函数\n",
    "\n",
    "- 函数可以用来定义可重复代码，组织和简化\n",
    "- 一般来说一个函数在实际开发中为一个小功能\n",
    "- 一个类为一个大功能\n",
    "- 同样函数的长度不要超过一屏"
   ]
  },
  {
   "cell_type": "code",
   "execution_count": 1,
   "metadata": {},
   "outputs": [],
   "source": [
    "def joker():\n",
    "    '''\n",
    "    这是一个测试函数'''\n",
    "    print('haahhah')"
   ]
  },
  {
   "cell_type": "code",
   "execution_count": 2,
   "metadata": {},
   "outputs": [
    {
     "name": "stdout",
     "output_type": "stream",
     "text": [
      "haahhah\n"
     ]
    }
   ],
   "source": [
    "joker()"
   ]
  },
  {
   "cell_type": "code",
   "execution_count": 10,
   "metadata": {},
   "outputs": [],
   "source": [
    "def li():\n",
    "    num = int(input('输入一个数'))\n",
    "    return num**3,num**2 "
   ]
  },
  {
   "cell_type": "code",
   "execution_count": 11,
   "metadata": {},
   "outputs": [
    {
     "name": "stdout",
     "output_type": "stream",
     "text": [
      "输入一个数10\n",
      "1000 100\n"
     ]
    }
   ],
   "source": [
    "res,res2=li()\n",
    "print(res,res2)"
   ]
  },
  {
   "cell_type": "code",
   "execution_count": 12,
   "metadata": {},
   "outputs": [],
   "source": [
    "def li():\n",
    "    num = int(input('输入一个数'))\n",
    "    return num**2 "
   ]
  },
  {
   "cell_type": "code",
   "execution_count": 14,
   "metadata": {},
   "outputs": [
    {
     "name": "stdout",
     "output_type": "stream",
     "text": [
      "输入一个数3\n",
      "9\n"
     ]
    }
   ],
   "source": [
    "res=li()\n",
    "print(res)"
   ]
  },
  {
   "cell_type": "code",
   "execution_count": null,
   "metadata": {},
   "outputs": [],
   "source": [
    "def yzm():\n",
    "import random\n",
    "la=[]\n",
    "for i in range (26):\n",
    "    la.append(chr(65+i))\n",
    "count=0\n",
    "while 1:\n",
    "    n1=random.randint(0,25)\n",
    "    n2=random.randint(0,25)\n",
    "    n3=random.randint(0,25)\n",
    "    n4=random.randint(0,25)\n",
    "    str2=str(la[n1])+str(la[n2])+str(la[n3])+str(la[n4])\n",
    "    print(str)\n",
    "    \n",
    "    str1=input('请输入验证码：'+str2+\"\\n\")\n",
    "    if str1==str2 :\n",
    "        print('验证成功！')\n",
    "        break\n",
    "    else:\n",
    "        count+=1\n",
    "        if count==3:\n",
    "            str3=input('你已经输入错误三次，请输入口令，否则无法继续：')\n",
    "            if str3 == '你真帅' :\n",
    "                count=0\n",
    "            else:\n",
    "                print('口令错误，不要爬了，小网站，没什么东西啊！')\n",
    "                break\n",
    "        print('验证码错误，请重新输入：')"
   ]
  },
  {
   "cell_type": "code",
   "execution_count": null,
   "metadata": {},
   "outputs": [],
   "source": [
    "def sc():\n",
    "     count+=1\n",
    "        if count==3:\n",
    "            str3=input('你已经输入错误三次，请输入口令，否则无法继续：')\n",
    "            if str3 == '你真帅' :\n",
    "                count=0\n",
    "            else:\n",
    "                print('口令错误，不要爬了，小网站，没什么东西啊！')\n",
    "                break\n",
    "        print('验证码错误，请重新输入：')\n"
   ]
  },
  {
   "cell_type": "code",
   "execution_count": null,
   "metadata": {},
   "outputs": [],
   "source": [
    "yzm()"
   ]
  },
  {
   "cell_type": "markdown",
   "metadata": {},
   "source": [
    "## 定义一个函数\n",
    "\n",
    "def function_name(list of parameters):\n",
    "    \n",
    "    do something\n",
    "![](../Photo/69.png)\n",
    "- 以前使用的random 或者range 或者print.. 其实都是函数或者类"
   ]
  },
  {
   "cell_type": "code",
   "execution_count": null,
   "metadata": {},
   "outputs": [],
   "source": []
  },
  {
   "cell_type": "markdown",
   "metadata": {},
   "source": [
    "## 调用一个函数\n",
    "- functionName()\n",
    "- \"()\" 就代表调用"
   ]
  },
  {
   "cell_type": "markdown",
   "metadata": {},
   "source": [
    "![](../Photo/70.png)"
   ]
  },
  {
   "cell_type": "markdown",
   "metadata": {},
   "source": [
    "## 带返回值和不带返回值的函数\n",
    "- return 返回的内容\n",
    "- return 返回多个值\n",
    "- 一般情况下，在多个函数协同完成一个功能的时候，那么将会有返回值"
   ]
  },
  {
   "cell_type": "markdown",
   "metadata": {},
   "source": [
    "![](../Photo/71.png)\n",
    "\n",
    "- 当然也可以自定义返回None"
   ]
  },
  {
   "cell_type": "markdown",
   "metadata": {},
   "source": [
    "## EP：\n",
    "![](../Photo/72.png)"
   ]
  },
  {
   "cell_type": "code",
   "execution_count": 15,
   "metadata": {},
   "outputs": [],
   "source": [
    "def test1():\n",
    "    test2()\n",
    "def test2():\n",
    "    print('hahahh')"
   ]
  },
  {
   "cell_type": "code",
   "execution_count": 16,
   "metadata": {},
   "outputs": [
    {
     "name": "stdout",
     "output_type": "stream",
     "text": [
      "hahahh\n"
     ]
    }
   ],
   "source": [
    "test1()"
   ]
  },
  {
   "cell_type": "code",
   "execution_count": 22,
   "metadata": {},
   "outputs": [],
   "source": [
    "def ou():\n",
    "      print('def',i,'偶数',i)\n"
   ]
  },
  {
   "cell_type": "code",
   "execution_count": 23,
   "metadata": {},
   "outputs": [],
   "source": [
    "def  ji():\n",
    "    print('def',i,'奇数',i)"
   ]
  },
  {
   "cell_type": "code",
   "execution_count": 26,
   "metadata": {},
   "outputs": [
    {
     "name": "stdout",
     "output_type": "stream",
     "text": [
      "def 1 奇数 1\n",
      "def 2 偶数 2\n",
      "def 3 奇数 3\n",
      "def 4 偶数 4\n",
      "def 5 奇数 5\n",
      "def 6 偶数 6\n",
      "def 7 奇数 7\n",
      "def 8 偶数 8\n",
      "def 9 奇数 9\n",
      "def 10 偶数 10\n"
     ]
    }
   ],
   "source": [
    "for i in range(1,11):\n",
    "    if i%2==0:\n",
    "        ou()\n",
    "    else:\n",
    "        ji()"
   ]
  },
  {
   "cell_type": "code",
   "execution_count": 34,
   "metadata": {},
   "outputs": [],
   "source": [
    "def test2():\n",
    "    for i in range(1,11,2):\n",
    "        print('def1',i)\n",
    "        test1(i)\n",
    "def test1(i):\n",
    "    print('def2',i+1)\n",
    "    \n"
   ]
  },
  {
   "cell_type": "code",
   "execution_count": 35,
   "metadata": {},
   "outputs": [
    {
     "name": "stdout",
     "output_type": "stream",
     "text": [
      "def1 1\n",
      "def2 2\n",
      "def1 3\n",
      "def2 4\n",
      "def1 5\n",
      "def2 6\n",
      "def1 7\n",
      "def2 8\n",
      "def1 9\n",
      "def2 10\n"
     ]
    }
   ],
   "source": [
    "test2()"
   ]
  },
  {
   "cell_type": "code",
   "execution_count": 27,
   "metadata": {},
   "outputs": [],
   "source": [
    "def nm(nm):\n",
    "    print(nm**3)"
   ]
  },
  {
   "cell_type": "code",
   "execution_count": 28,
   "metadata": {},
   "outputs": [
    {
     "name": "stdout",
     "output_type": "stream",
     "text": [
      "1000\n"
     ]
    }
   ],
   "source": [
    "nm(10)"
   ]
  },
  {
   "cell_type": "code",
   "execution_count": 91,
   "metadata": {},
   "outputs": [],
   "source": [
    "ac=None\n",
    "password=None\n",
    "def regist(s1,s2):\n",
    "    global ac,pa\n",
    "    ac=s1\n",
    "    pa=s2\n",
    "def login(p1,p2):\n",
    "    if ac==p1 and  pa==p2:\n",
    "        print('login scucces')\n",
    "    else:\n",
    "        print('Error')\n",
    "def logout():\n",
    "    global ac,pa\n",
    "    ac=None\n",
    "    pa=None\n",
    "\n",
    "   "
   ]
  },
  {
   "cell_type": "code",
   "execution_count": 94,
   "metadata": {},
   "outputs": [
    {
     "name": "stdout",
     "output_type": "stream",
     "text": [
      "login scucces\n"
     ]
    }
   ],
   "source": [
    "regist(1,2)\n",
    "login(1,2)\n",
    "logout()"
   ]
  },
  {
   "cell_type": "code",
   "execution_count": 37,
   "metadata": {},
   "outputs": [
    {
     "name": "stdout",
     "output_type": "stream",
     "text": [
      "[[[133 130 111]\n",
      "  [133 130 111]\n",
      "  [133 130 111]\n",
      "  ...\n",
      "  [107 115 100]\n",
      "  [112 120 105]\n",
      "  [114 122 107]]\n",
      "\n",
      " [[135 132 113]\n",
      "  [135 132 113]\n",
      "  [135 132 113]\n",
      "  ...\n",
      "  [102 110  95]\n",
      "  [103 111  96]\n",
      "  [104 112  97]]\n",
      "\n",
      " [[137 134 115]\n",
      "  [137 134 115]\n",
      "  [137 134 115]\n",
      "  ...\n",
      "  [100 108  93]\n",
      "  [101 109  94]\n",
      "  [101 109  94]]\n",
      "\n",
      " ...\n",
      "\n",
      " [[ 71 109  22]\n",
      "  [ 70 108  21]\n",
      "  [ 70 109  20]\n",
      "  ...\n",
      "  [136 129 101]\n",
      "  [136 129 101]\n",
      "  [136 129 101]]\n",
      "\n",
      " [[ 69 107  20]\n",
      "  [ 69 107  20]\n",
      "  [ 68 107  18]\n",
      "  ...\n",
      "  [138 131 103]\n",
      "  [138 131 103]\n",
      "  [138 131 103]]\n",
      "\n",
      " [[ 68 106  19]\n",
      "  [ 68 106  19]\n",
      "  [ 68 107  18]\n",
      "  ...\n",
      "  [140 133 105]\n",
      "  [140 133 105]\n",
      "  [140 133 105]]]\n"
     ]
    }
   ],
   "source": [
    "import matplotlib.pyplot as plt\n",
    "res = plt.imread('/Users/huwang/Documents/other/图片/66.jpeg')\n",
    "print(res)"
   ]
  },
  {
   "cell_type": "code",
   "execution_count": 39,
   "metadata": {},
   "outputs": [],
   "source": [
    "import pymysql\n"
   ]
  },
  {
   "cell_type": "markdown",
   "metadata": {},
   "source": [
    "## 类型和关键字参数\n",
    "- 普通参数\n",
    "- 多个参数\n",
    "- 默认值参数\n",
    "- 不定长参数"
   ]
  },
  {
   "cell_type": "markdown",
   "metadata": {},
   "source": [
    "## 普通参数"
   ]
  },
  {
   "cell_type": "markdown",
   "metadata": {},
   "source": [
    "## 多个参数"
   ]
  },
  {
   "cell_type": "code",
   "execution_count": 46,
   "metadata": {},
   "outputs": [],
   "source": [
    "def test(a,b,*,c,d=100,e='svc'):\n",
    "    print(a,b,c,d,e)"
   ]
  },
  {
   "cell_type": "code",
   "execution_count": 41,
   "metadata": {},
   "outputs": [
    {
     "name": "stdout",
     "output_type": "stream",
     "text": [
      "1 2 3 4 100\n"
     ]
    }
   ],
   "source": [
    "test(1,2,3,4)"
   ]
  },
  {
   "cell_type": "code",
   "execution_count": 47,
   "metadata": {},
   "outputs": [
    {
     "name": "stdout",
     "output_type": "stream",
     "text": [
      "1 2 3 100 svc\n"
     ]
    }
   ],
   "source": [
    "test(a=1,b=2,c=3)"
   ]
  },
  {
   "cell_type": "markdown",
   "metadata": {},
   "source": [
    "## 默认值参数"
   ]
  },
  {
   "cell_type": "markdown",
   "metadata": {},
   "source": [
    "#默认参数只能放在最后"
   ]
  },
  {
   "cell_type": "code",
   "execution_count": 96,
   "metadata": {},
   "outputs": [
    {
     "name": "stdout",
     "output_type": "stream",
     "text": [
      "1 1\n",
      "2 4\n",
      "3 27\n",
      "4 16\n",
      "5 125\n",
      "6 36\n",
      "7 343\n",
      "8 64\n",
      "9 729\n"
     ]
    }
   ],
   "source": [
    "def test1(n):\n",
    "    print(n,n**2)\n",
    "def test2(n):\n",
    "    print(n,n**3)\n",
    "for i in range(1,10):\n",
    "    if i%2==0:\n",
    "        test1(i)\n",
    "    else:\n",
    "        test2(i)\n",
    "\n"
   ]
  },
  {
   "cell_type": "markdown",
   "metadata": {},
   "source": [
    "不定长参数,\n",
    "- \\*args\n",
    "- 不定长，来多少装多少，不装也可以\n",
    "- 返回的数据类型是元组\n",
    "- args名字是可以修改的，值是我们约定俗成的是args\n",
    "\n",
    "\n"
   ]
  },
  {
   "cell_type": "code",
   "execution_count": 55,
   "metadata": {},
   "outputs": [],
   "source": [
    "def test(*args):\n",
    "    print(args)\n",
    "    print(type(args))"
   ]
  },
  {
   "cell_type": "code",
   "execution_count": 56,
   "metadata": {},
   "outputs": [
    {
     "name": "stdout",
     "output_type": "stream",
     "text": [
      "(1, 2, 3, 4, 5, 6)\n",
      "<class 'tuple'>\n"
     ]
    }
   ],
   "source": [
    "test(1,2,3,4,5,6)"
   ]
  },
  {
   "cell_type": "code",
   "execution_count": 57,
   "metadata": {},
   "outputs": [],
   "source": [
    "def test2(**kwargs):\n",
    "    print(kwargs)"
   ]
  },
  {
   "cell_type": "code",
   "execution_count": 59,
   "metadata": {},
   "outputs": [
    {
     "name": "stdout",
     "output_type": "stream",
     "text": [
      "{'a': 1, 'b': 2, 'c': 3}\n"
     ]
    }
   ],
   "source": [
    "test2(a=1,b=2,c=3)"
   ]
  },
  {
   "cell_type": "code",
   "execution_count": 63,
   "metadata": {},
   "outputs": [],
   "source": [
    "def res(*args,**kwargs):\n",
    "    print(args)\n",
    "    print(kwargs)\n"
   ]
  },
  {
   "cell_type": "code",
   "execution_count": 70,
   "metadata": {},
   "outputs": [
    {
     "name": "stdout",
     "output_type": "stream",
     "text": [
      "(1, 2, 3)\n",
      "{'a': 1, 'b': 2}\n"
     ]
    }
   ],
   "source": [
    "res(1,2,3,a=1,b=2)"
   ]
  },
  {
   "cell_type": "code",
   "execution_count": 65,
   "metadata": {},
   "outputs": [],
   "source": [
    "def res2(**kwargs):\n",
    "    print(kwargs)"
   ]
  },
  {
   "cell_type": "code",
   "execution_count": 67,
   "metadata": {},
   "outputs": [
    {
     "name": "stdout",
     "output_type": "stream",
     "text": [
      "{'host': '127.0.01', 'user': 'root', 'db': 'phone', 'charset': 'utf8'}\n"
     ]
    }
   ],
   "source": [
    "res2(**config)"
   ]
  },
  {
   "cell_type": "code",
   "execution_count": 62,
   "metadata": {},
   "outputs": [
    {
     "name": "stdout",
     "output_type": "stream",
     "text": [
      "{'host': '127.0.01', 'user': 'root', 'db': 'phone', 'charset': 'utf8'}\n"
     ]
    }
   ],
   "source": [
    "config = {\n",
    "    'host':'127.0.01',\n",
    "    'user':'root',\n",
    "    'db':'phone',\n",
    "    'charset':'utf8'\n",
    "}\n",
    "test2(**config)"
   ]
  },
  {
   "cell_type": "markdown",
   "metadata": {},
   "source": [
    "## 变量的作用域\n",
    "- 局部变量 local\n",
    "- 全局变量 global\n",
    "- globals 函数返回一个全局变量的字典，包括所有导入的变量\n",
    "- locals() 函数会以字典类型返回当前位置的全部局部变量。"
   ]
  },
  {
   "cell_type": "code",
   "execution_count": 71,
   "metadata": {},
   "outputs": [],
   "source": [
    "mist = 0\n",
    "def test4():\n",
    "    global mist\n",
    "    mist +=100\n",
    "    print(mist)"
   ]
  },
  {
   "cell_type": "code",
   "execution_count": 74,
   "metadata": {},
   "outputs": [],
   "source": [
    "mist2 = []\n",
    "def test5():\n",
    "    global mist2\n",
    "    mist2.append(100)\n",
    "    print(mist2)"
   ]
  },
  {
   "cell_type": "code",
   "execution_count": 78,
   "metadata": {},
   "outputs": [
    {
     "name": "stdout",
     "output_type": "stream",
     "text": [
      "[100]\n",
      "[100]\n"
     ]
    }
   ],
   "source": [
    "test5()\n",
    "print(mist2)"
   ]
  },
  {
   "cell_type": "code",
   "execution_count": 76,
   "metadata": {},
   "outputs": [],
   "source": [
    "mist3 = 100\n",
    "def test6():\n",
    "    global mist3\n",
    "    del mist3\n"
   ]
  },
  {
   "cell_type": "code",
   "execution_count": 80,
   "metadata": {
    "collapsed": true
   },
   "outputs": [
    {
     "data": {
      "text/plain": [
       "{'In': ['',\n",
       "  \"def joker():\\n    print('haahhah')\",\n",
       "  'joker()',\n",
       "  'li()',\n",
       "  \"def li():\\n    i=0\\n    num=int(intput('输入一个数'))\\n    i=num**3\\n    print(i)    \",\n",
       "  \"def li():\\n    i=0\\n    num=int(intput('输入一个数'))\\n    i=num**3\\n    print(i)    \",\n",
       "  \"def li():\\n    num=int(intput('输入一个数'))\\n    reture num**3,number**2 \",\n",
       "  \"def li():\\n    num=int(intput('输入一个数'))\\n    reture num**3,num**2 \",\n",
       "  \"def li():\\n    num = int(input('输入一个数'))\\n    reture num**3,num**2 \",\n",
       "  \"def li():\\n    num = int(input('输入一个数'))\\n    reture num**3,num**2 \",\n",
       "  \"def li():\\n    num = int(input('输入一个数'))\\n    return num**3,num**2 \",\n",
       "  'res,res2=li()\\nprint(res,res2)',\n",
       "  \"def li():\\n    num = int(input('输入一个数'))\\n    return num**2 \",\n",
       "  'res=li()\\nprint(res)',\n",
       "  'res=li()\\nprint(res)',\n",
       "  \"def test1():\\n    test2()\\ndef test2():\\n    print('hahahh')\",\n",
       "  'test1()',\n",
       "  \"def ou():\\n      print('偶数'，i)\",\n",
       "  \"def ou():\\n      print('偶数',i)\",\n",
       "  \"def  ji():\\n    print('奇数'，j)\",\n",
       "  \"def  ji():\\n    print('奇数',j)\",\n",
       "  'for i in range(10):\\n    ji()\\n    ou()',\n",
       "  \"def ou():\\n      print('def',i,'偶数',i)\",\n",
       "  \"def  ji():\\n    print('def',i,'奇数',i)\",\n",
       "  'for i in range(10):\\n    ji()\\n    ou()',\n",
       "  'for i in range(1,11):\\n    ji()\\n    for j in range (i+1)\\n    ou()',\n",
       "  'for i in range(1,11):\\n    if i%2==0:\\n        ou()\\n    else:\\n        ji()',\n",
       "  'def nm(nm):\\n    print(nm**3)',\n",
       "  'nm(10)',\n",
       "  \"def test2():\\n    for i in range(1,11,2):\\n        print('def1',1)\\n        test1()\\ndef test1(i):\\n    print('def2',i+1)\\n    \",\n",
       "  \"def test2():\\n    for i in range(1,11,2):\\n        print('def1',1)\\n        test1()\\ndef test1(i):\\n    print('def2',i+1)\\n    \",\n",
       "  'test()',\n",
       "  'test2()',\n",
       "  'test2()',\n",
       "  \"def test2():\\n    for i in range(1,11,2):\\n        print('def1',i)\\n        test1(i)\\ndef test1(i):\\n    print('def2',i+1)\\n    \",\n",
       "  'test2()',\n",
       "  \"import matplotlib.pyplot as plt\\nres = plt.imread('/Users/huwang/Documents/other/图片/66.jpeg')\\nprint(res)\",\n",
       "  \"import matplotlib.pyplot as plt\\nres = plt.imread('/Users/huwang/Documents/other/图片/66.jpeg')\\nprint(res)\",\n",
       "  'import pymysql',\n",
       "  'import pymysql',\n",
       "  'def test(a,b,c,d,e=100):\\n    print(a,b,c,d,e)',\n",
       "  'test(1,2,3,4)',\n",
       "  'def test1(n):\\n    print(n**2)\\ndef test2(n):\\n    print(n**3)\\nfor i in range(10):\\n    if i%2==0:\\n        print(test1(i))\\n    else:\\n        print(test2(i))',\n",
       "  'def test1(n):\\n    print(n**2)\\ndef test2(n):\\n    print(n**3)\\nfor i in range(10):\\n    if i%2==0:\\n        print(i,test1(i))\\n    else:\\n        print(i,test2(i))',\n",
       "  'test(a=1,b=2,c=3)',\n",
       "  'test(a=1,b=2,c=3)',\n",
       "  \"def test(a,b,*,c,d=100,e='svc'):\\n    print(a,b,c,d,e)\",\n",
       "  'test(a=1,b=2,c=3)',\n",
       "  'def test1(n):\\n    print(n**2)\\ndef test2(n):\\n    print(n**3)\\nfor i in range(10):\\n    if i%2==0:\\n        print(i,test1(i))\\n    else:\\n        print(i,test2(i))',\n",
       "  'def test1(n):\\n    print(n**2)\\ndef test2(n):\\n    print(n**3)\\nfor i in range(1,10):\\n    if i%2==0:\\n        print(i,test1(i))\\n    else:\\n        print(i,test2(i))',\n",
       "  'def test():\\n    print()',\n",
       "  'def test():\\n    print()',\n",
       "  'def test(*args):\\n    print(args)',\n",
       "  'test()',\n",
       "  'test(1,2,3,4,5,6)',\n",
       "  'def test(*args):\\n    print(args)\\n    print(type(args))',\n",
       "  'test(1,2,3,4,5,6)',\n",
       "  'def test2(**kwargs):\\n    print(kwargs)',\n",
       "  'test2()',\n",
       "  'test2(a=1,b=2,c=3)',\n",
       "  \"config = {\\n    'host':'127.0.01'\\n    'user':'root'\\n    'db':'phone'\\n    'charset':'utf8'\\n}\\ntest2(**config)\",\n",
       "  \"config = {\\n    'host':'127.0.01'\\n    'user':'root'\\n    'db':'phone'\\n    'charset':'utf8'\\n}\\ntest2(**config)\",\n",
       "  \"config = {\\n    'host':'127.0.01',\\n    'user':'root',\\n    'db':'phone',\\n    'charset':'utf8'\\n}\\ntest2(**config)\",\n",
       "  'def res(*args,**kwargs):\\n    print(args)\\n    print(kwargs)',\n",
       "  'res(1,2,3,a=1,b=2)',\n",
       "  'def res2(**kwargs):\\n    print(kwargs)',\n",
       "  'res2(**kwargs)',\n",
       "  'res2(**config)',\n",
       "  'res(1,2,3)',\n",
       "  'res(a=1,b=2,1,2,3)',\n",
       "  'res(1,2,3,a=1,b=2)',\n",
       "  'mist = 0\\ndef test4():\\n    global mist\\n    mist +=100\\n    print(mist)',\n",
       "  'test4()',\n",
       "  'mist2 = []\\ndef test5():\\n    mist2.append(100)\\n    print(mist2)',\n",
       "  'mist2 = []\\ndef test5():\\n    mist2.append(100)\\n    print(mist2)',\n",
       "  'mist3 = 100\\ndef test6():\\n    del mist3',\n",
       "  'mist3 = 100\\ndef test6():\\n    global mist3\\n    del mist3',\n",
       "  'test6()\\nprint(mist3)',\n",
       "  'test5()\\nprint(mist2)',\n",
       "  'globals',\n",
       "  'globals()'],\n",
       " 'Out': {79: <function globals>},\n",
       " '_': <function globals>,\n",
       " '_79': <function globals>,\n",
       " '__': '',\n",
       " '___': '',\n",
       " '__builtin__': <module 'builtins' (built-in)>,\n",
       " '__builtins__': <module 'builtins' (built-in)>,\n",
       " '__doc__': 'Automatically created module for IPython interactive environment',\n",
       " '__loader__': None,\n",
       " '__name__': '__main__',\n",
       " '__package__': None,\n",
       " '__spec__': None,\n",
       " '_dh': ['C:\\\\Users\\\\Administrator\\\\Desktop\\\\codeggz\\\\doc_all\\\\doc_all\\\\Teacher\\\\Python基础'],\n",
       " '_i': 'globals',\n",
       " '_i1': \"def joker():\\n    print('haahhah')\",\n",
       " '_i10': \"def li():\\n    num = int(input('输入一个数'))\\n    return num**3,num**2 \",\n",
       " '_i11': 'res,res2=li()\\nprint(res,res2)',\n",
       " '_i12': \"def li():\\n    num = int(input('输入一个数'))\\n    return num**2 \",\n",
       " '_i13': 'res=li()\\nprint(res)',\n",
       " '_i14': 'res=li()\\nprint(res)',\n",
       " '_i15': \"def test1():\\n    test2()\\ndef test2():\\n    print('hahahh')\",\n",
       " '_i16': 'test1()',\n",
       " '_i17': \"def ou():\\n      print('偶数'，i)\",\n",
       " '_i18': \"def ou():\\n      print('偶数',i)\",\n",
       " '_i19': \"def  ji():\\n    print('奇数'，j)\",\n",
       " '_i2': 'joker()',\n",
       " '_i20': \"def  ji():\\n    print('奇数',j)\",\n",
       " '_i21': 'for i in range(10):\\n    ji()\\n    ou()',\n",
       " '_i22': \"def ou():\\n      print('def',i,'偶数',i)\",\n",
       " '_i23': \"def  ji():\\n    print('def',i,'奇数',i)\",\n",
       " '_i24': 'for i in range(10):\\n    ji()\\n    ou()',\n",
       " '_i25': 'for i in range(1,11):\\n    ji()\\n    for j in range (i+1)\\n    ou()',\n",
       " '_i26': 'for i in range(1,11):\\n    if i%2==0:\\n        ou()\\n    else:\\n        ji()',\n",
       " '_i27': 'def nm(nm):\\n    print(nm**3)',\n",
       " '_i28': 'nm(10)',\n",
       " '_i29': \"def test2():\\n    for i in range(1,11,2):\\n        print('def1',1)\\n        test1()\\ndef test1(i):\\n    print('def2',i+1)\\n    \",\n",
       " '_i3': 'li()',\n",
       " '_i30': \"def test2():\\n    for i in range(1,11,2):\\n        print('def1',1)\\n        test1()\\ndef test1(i):\\n    print('def2',i+1)\\n    \",\n",
       " '_i31': 'test()',\n",
       " '_i32': 'test2()',\n",
       " '_i33': 'test2()',\n",
       " '_i34': \"def test2():\\n    for i in range(1,11,2):\\n        print('def1',i)\\n        test1(i)\\ndef test1(i):\\n    print('def2',i+1)\\n    \",\n",
       " '_i35': 'test2()',\n",
       " '_i36': \"import matplotlib.pyplot as plt\\nres = plt.imread('/Users/huwang/Documents/other/图片/66.jpeg')\\nprint(res)\",\n",
       " '_i37': \"import matplotlib.pyplot as plt\\nres = plt.imread('/Users/huwang/Documents/other/图片/66.jpeg')\\nprint(res)\",\n",
       " '_i38': 'import pymysql',\n",
       " '_i39': 'import pymysql',\n",
       " '_i4': \"def li():\\n    i=0\\n    num=int(intput('输入一个数'))\\n    i=num**3\\n    print(i)    \",\n",
       " '_i40': 'def test(a,b,c,d,e=100):\\n    print(a,b,c,d,e)',\n",
       " '_i41': 'test(1,2,3,4)',\n",
       " '_i42': 'def test1(n):\\n    print(n**2)\\ndef test2(n):\\n    print(n**3)\\nfor i in range(10):\\n    if i%2==0:\\n        print(test1(i))\\n    else:\\n        print(test2(i))',\n",
       " '_i43': 'def test1(n):\\n    print(n**2)\\ndef test2(n):\\n    print(n**3)\\nfor i in range(10):\\n    if i%2==0:\\n        print(i,test1(i))\\n    else:\\n        print(i,test2(i))',\n",
       " '_i44': 'test(a=1,b=2,c=3)',\n",
       " '_i45': 'test(a=1,b=2,c=3)',\n",
       " '_i46': \"def test(a,b,*,c,d=100,e='svc'):\\n    print(a,b,c,d,e)\",\n",
       " '_i47': 'test(a=1,b=2,c=3)',\n",
       " '_i48': 'def test1(n):\\n    print(n**2)\\ndef test2(n):\\n    print(n**3)\\nfor i in range(10):\\n    if i%2==0:\\n        print(i,test1(i))\\n    else:\\n        print(i,test2(i))',\n",
       " '_i49': 'def test1(n):\\n    print(n**2)\\ndef test2(n):\\n    print(n**3)\\nfor i in range(1,10):\\n    if i%2==0:\\n        print(i,test1(i))\\n    else:\\n        print(i,test2(i))',\n",
       " '_i5': \"def li():\\n    i=0\\n    num=int(intput('输入一个数'))\\n    i=num**3\\n    print(i)    \",\n",
       " '_i50': 'def test():\\n    print()',\n",
       " '_i51': 'def test():\\n    print()',\n",
       " '_i52': 'def test(*args):\\n    print(args)',\n",
       " '_i53': 'test()',\n",
       " '_i54': 'test(1,2,3,4,5,6)',\n",
       " '_i55': 'def test(*args):\\n    print(args)\\n    print(type(args))',\n",
       " '_i56': 'test(1,2,3,4,5,6)',\n",
       " '_i57': 'def test2(**kwargs):\\n    print(kwargs)',\n",
       " '_i58': 'test2()',\n",
       " '_i59': 'test2(a=1,b=2,c=3)',\n",
       " '_i6': \"def li():\\n    num=int(intput('输入一个数'))\\n    reture num**3,number**2 \",\n",
       " '_i60': \"config = {\\n    'host':'127.0.01'\\n    'user':'root'\\n    'db':'phone'\\n    'charset':'utf8'\\n}\\ntest2(**config)\",\n",
       " '_i61': \"config = {\\n    'host':'127.0.01'\\n    'user':'root'\\n    'db':'phone'\\n    'charset':'utf8'\\n}\\ntest2(**config)\",\n",
       " '_i62': \"config = {\\n    'host':'127.0.01',\\n    'user':'root',\\n    'db':'phone',\\n    'charset':'utf8'\\n}\\ntest2(**config)\",\n",
       " '_i63': 'def res(*args,**kwargs):\\n    print(args)\\n    print(kwargs)',\n",
       " '_i64': 'res(1,2,3,a=1,b=2)',\n",
       " '_i65': 'def res2(**kwargs):\\n    print(kwargs)',\n",
       " '_i66': 'res2(**kwargs)',\n",
       " '_i67': 'res2(**config)',\n",
       " '_i68': 'res(1,2,3)',\n",
       " '_i69': 'res(a=1,b=2,1,2,3)',\n",
       " '_i7': \"def li():\\n    num=int(intput('输入一个数'))\\n    reture num**3,num**2 \",\n",
       " '_i70': 'res(1,2,3,a=1,b=2)',\n",
       " '_i71': 'mist = 0\\ndef test4():\\n    global mist\\n    mist +=100\\n    print(mist)',\n",
       " '_i72': 'test4()',\n",
       " '_i73': 'mist2 = []\\ndef test5():\\n    mist2.append(100)\\n    print(mist2)',\n",
       " '_i74': 'mist2 = []\\ndef test5():\\n    mist2.append(100)\\n    print(mist2)',\n",
       " '_i75': 'mist3 = 100\\ndef test6():\\n    del mist3',\n",
       " '_i76': 'mist3 = 100\\ndef test6():\\n    global mist3\\n    del mist3',\n",
       " '_i77': 'test6()\\nprint(mist3)',\n",
       " '_i78': 'test5()\\nprint(mist2)',\n",
       " '_i79': 'globals',\n",
       " '_i8': \"def li():\\n    num = int(input('输入一个数'))\\n    reture num**3,num**2 \",\n",
       " '_i80': 'globals()',\n",
       " '_i9': \"def li():\\n    num = int(input('输入一个数'))\\n    reture num**3,num**2 \",\n",
       " '_ih': ['',\n",
       "  \"def joker():\\n    print('haahhah')\",\n",
       "  'joker()',\n",
       "  'li()',\n",
       "  \"def li():\\n    i=0\\n    num=int(intput('输入一个数'))\\n    i=num**3\\n    print(i)    \",\n",
       "  \"def li():\\n    i=0\\n    num=int(intput('输入一个数'))\\n    i=num**3\\n    print(i)    \",\n",
       "  \"def li():\\n    num=int(intput('输入一个数'))\\n    reture num**3,number**2 \",\n",
       "  \"def li():\\n    num=int(intput('输入一个数'))\\n    reture num**3,num**2 \",\n",
       "  \"def li():\\n    num = int(input('输入一个数'))\\n    reture num**3,num**2 \",\n",
       "  \"def li():\\n    num = int(input('输入一个数'))\\n    reture num**3,num**2 \",\n",
       "  \"def li():\\n    num = int(input('输入一个数'))\\n    return num**3,num**2 \",\n",
       "  'res,res2=li()\\nprint(res,res2)',\n",
       "  \"def li():\\n    num = int(input('输入一个数'))\\n    return num**2 \",\n",
       "  'res=li()\\nprint(res)',\n",
       "  'res=li()\\nprint(res)',\n",
       "  \"def test1():\\n    test2()\\ndef test2():\\n    print('hahahh')\",\n",
       "  'test1()',\n",
       "  \"def ou():\\n      print('偶数'，i)\",\n",
       "  \"def ou():\\n      print('偶数',i)\",\n",
       "  \"def  ji():\\n    print('奇数'，j)\",\n",
       "  \"def  ji():\\n    print('奇数',j)\",\n",
       "  'for i in range(10):\\n    ji()\\n    ou()',\n",
       "  \"def ou():\\n      print('def',i,'偶数',i)\",\n",
       "  \"def  ji():\\n    print('def',i,'奇数',i)\",\n",
       "  'for i in range(10):\\n    ji()\\n    ou()',\n",
       "  'for i in range(1,11):\\n    ji()\\n    for j in range (i+1)\\n    ou()',\n",
       "  'for i in range(1,11):\\n    if i%2==0:\\n        ou()\\n    else:\\n        ji()',\n",
       "  'def nm(nm):\\n    print(nm**3)',\n",
       "  'nm(10)',\n",
       "  \"def test2():\\n    for i in range(1,11,2):\\n        print('def1',1)\\n        test1()\\ndef test1(i):\\n    print('def2',i+1)\\n    \",\n",
       "  \"def test2():\\n    for i in range(1,11,2):\\n        print('def1',1)\\n        test1()\\ndef test1(i):\\n    print('def2',i+1)\\n    \",\n",
       "  'test()',\n",
       "  'test2()',\n",
       "  'test2()',\n",
       "  \"def test2():\\n    for i in range(1,11,2):\\n        print('def1',i)\\n        test1(i)\\ndef test1(i):\\n    print('def2',i+1)\\n    \",\n",
       "  'test2()',\n",
       "  \"import matplotlib.pyplot as plt\\nres = plt.imread('/Users/huwang/Documents/other/图片/66.jpeg')\\nprint(res)\",\n",
       "  \"import matplotlib.pyplot as plt\\nres = plt.imread('/Users/huwang/Documents/other/图片/66.jpeg')\\nprint(res)\",\n",
       "  'import pymysql',\n",
       "  'import pymysql',\n",
       "  'def test(a,b,c,d,e=100):\\n    print(a,b,c,d,e)',\n",
       "  'test(1,2,3,4)',\n",
       "  'def test1(n):\\n    print(n**2)\\ndef test2(n):\\n    print(n**3)\\nfor i in range(10):\\n    if i%2==0:\\n        print(test1(i))\\n    else:\\n        print(test2(i))',\n",
       "  'def test1(n):\\n    print(n**2)\\ndef test2(n):\\n    print(n**3)\\nfor i in range(10):\\n    if i%2==0:\\n        print(i,test1(i))\\n    else:\\n        print(i,test2(i))',\n",
       "  'test(a=1,b=2,c=3)',\n",
       "  'test(a=1,b=2,c=3)',\n",
       "  \"def test(a,b,*,c,d=100,e='svc'):\\n    print(a,b,c,d,e)\",\n",
       "  'test(a=1,b=2,c=3)',\n",
       "  'def test1(n):\\n    print(n**2)\\ndef test2(n):\\n    print(n**3)\\nfor i in range(10):\\n    if i%2==0:\\n        print(i,test1(i))\\n    else:\\n        print(i,test2(i))',\n",
       "  'def test1(n):\\n    print(n**2)\\ndef test2(n):\\n    print(n**3)\\nfor i in range(1,10):\\n    if i%2==0:\\n        print(i,test1(i))\\n    else:\\n        print(i,test2(i))',\n",
       "  'def test():\\n    print()',\n",
       "  'def test():\\n    print()',\n",
       "  'def test(*args):\\n    print(args)',\n",
       "  'test()',\n",
       "  'test(1,2,3,4,5,6)',\n",
       "  'def test(*args):\\n    print(args)\\n    print(type(args))',\n",
       "  'test(1,2,3,4,5,6)',\n",
       "  'def test2(**kwargs):\\n    print(kwargs)',\n",
       "  'test2()',\n",
       "  'test2(a=1,b=2,c=3)',\n",
       "  \"config = {\\n    'host':'127.0.01'\\n    'user':'root'\\n    'db':'phone'\\n    'charset':'utf8'\\n}\\ntest2(**config)\",\n",
       "  \"config = {\\n    'host':'127.0.01'\\n    'user':'root'\\n    'db':'phone'\\n    'charset':'utf8'\\n}\\ntest2(**config)\",\n",
       "  \"config = {\\n    'host':'127.0.01',\\n    'user':'root',\\n    'db':'phone',\\n    'charset':'utf8'\\n}\\ntest2(**config)\",\n",
       "  'def res(*args,**kwargs):\\n    print(args)\\n    print(kwargs)',\n",
       "  'res(1,2,3,a=1,b=2)',\n",
       "  'def res2(**kwargs):\\n    print(kwargs)',\n",
       "  'res2(**kwargs)',\n",
       "  'res2(**config)',\n",
       "  'res(1,2,3)',\n",
       "  'res(a=1,b=2,1,2,3)',\n",
       "  'res(1,2,3,a=1,b=2)',\n",
       "  'mist = 0\\ndef test4():\\n    global mist\\n    mist +=100\\n    print(mist)',\n",
       "  'test4()',\n",
       "  'mist2 = []\\ndef test5():\\n    mist2.append(100)\\n    print(mist2)',\n",
       "  'mist2 = []\\ndef test5():\\n    mist2.append(100)\\n    print(mist2)',\n",
       "  'mist3 = 100\\ndef test6():\\n    del mist3',\n",
       "  'mist3 = 100\\ndef test6():\\n    global mist3\\n    del mist3',\n",
       "  'test6()\\nprint(mist3)',\n",
       "  'test5()\\nprint(mist2)',\n",
       "  'globals',\n",
       "  'globals()'],\n",
       " '_ii': 'test5()\\nprint(mist2)',\n",
       " '_iii': 'test6()\\nprint(mist3)',\n",
       " '_oh': {79: <function globals>},\n",
       " 'config': {'charset': 'utf8',\n",
       "  'db': 'phone',\n",
       "  'host': '127.0.01',\n",
       "  'user': 'root'},\n",
       " 'exit': <IPython.core.autocall.ZMQExitAutocall at 0x559e6d8>,\n",
       " 'get_ipython': <bound method InteractiveShell.get_ipython of <ipykernel.zmqshell.ZMQInteractiveShell object at 0x0000000005580208>>,\n",
       " 'i': 9,\n",
       " 'ji': <function __main__.ji>,\n",
       " 'joker': <function __main__.joker>,\n",
       " 'li': <function __main__.li>,\n",
       " 'mist': 100,\n",
       " 'mist2': [100],\n",
       " 'nm': <function __main__.nm>,\n",
       " 'ou': <function __main__.ou>,\n",
       " 'plt': <module 'matplotlib.pyplot' from 'C:\\\\ProgramData\\\\Anaconda3\\\\lib\\\\site-packages\\\\matplotlib\\\\pyplot.py'>,\n",
       " 'pymysql': <module 'pymysql' from 'C:\\\\ProgramData\\\\Anaconda3\\\\lib\\\\site-packages\\\\pymysql\\\\__init__.py'>,\n",
       " 'quit': <IPython.core.autocall.ZMQExitAutocall at 0x559e6d8>,\n",
       " 'res': <function __main__.res>,\n",
       " 'res2': <function __main__.res2>,\n",
       " 'test': <function __main__.test>,\n",
       " 'test1': <function __main__.test1>,\n",
       " 'test2': <function __main__.test2>,\n",
       " 'test4': <function __main__.test4>,\n",
       " 'test5': <function __main__.test5>,\n",
       " 'test6': <function __main__.test6>}"
      ]
     },
     "execution_count": 80,
     "metadata": {},
     "output_type": "execute_result"
    }
   ],
   "source": [
    "globals()"
   ]
  },
  {
   "cell_type": "code",
   "execution_count": 77,
   "metadata": {},
   "outputs": [
    {
     "ename": "NameError",
     "evalue": "name 'mist3' is not defined",
     "output_type": "error",
     "traceback": [
      "\u001b[1;31m---------------------------------------------------------------------------\u001b[0m",
      "\u001b[1;31mNameError\u001b[0m                                 Traceback (most recent call last)",
      "\u001b[1;32m<ipython-input-77-d931657b4cb9>\u001b[0m in \u001b[0;36m<module>\u001b[1;34m()\u001b[0m\n\u001b[0;32m      1\u001b[0m \u001b[0mtest6\u001b[0m\u001b[1;33m(\u001b[0m\u001b[1;33m)\u001b[0m\u001b[1;33m\u001b[0m\u001b[0m\n\u001b[1;32m----> 2\u001b[1;33m \u001b[0mprint\u001b[0m\u001b[1;33m(\u001b[0m\u001b[0mmist3\u001b[0m\u001b[1;33m)\u001b[0m\u001b[1;33m\u001b[0m\u001b[0m\n\u001b[0m",
      "\u001b[1;31mNameError\u001b[0m: name 'mist3' is not defined"
     ]
    }
   ],
   "source": [
    "test6()\n",
    "print(mist3)"
   ]
  },
  {
   "cell_type": "code",
   "execution_count": 81,
   "metadata": {
    "collapsed": true
   },
   "outputs": [
    {
     "data": {
      "text/plain": [
       "{'In': ['',\n",
       "  \"def joker():\\n    print('haahhah')\",\n",
       "  'joker()',\n",
       "  'li()',\n",
       "  \"def li():\\n    i=0\\n    num=int(intput('输入一个数'))\\n    i=num**3\\n    print(i)    \",\n",
       "  \"def li():\\n    i=0\\n    num=int(intput('输入一个数'))\\n    i=num**3\\n    print(i)    \",\n",
       "  \"def li():\\n    num=int(intput('输入一个数'))\\n    reture num**3,number**2 \",\n",
       "  \"def li():\\n    num=int(intput('输入一个数'))\\n    reture num**3,num**2 \",\n",
       "  \"def li():\\n    num = int(input('输入一个数'))\\n    reture num**3,num**2 \",\n",
       "  \"def li():\\n    num = int(input('输入一个数'))\\n    reture num**3,num**2 \",\n",
       "  \"def li():\\n    num = int(input('输入一个数'))\\n    return num**3,num**2 \",\n",
       "  'res,res2=li()\\nprint(res,res2)',\n",
       "  \"def li():\\n    num = int(input('输入一个数'))\\n    return num**2 \",\n",
       "  'res=li()\\nprint(res)',\n",
       "  'res=li()\\nprint(res)',\n",
       "  \"def test1():\\n    test2()\\ndef test2():\\n    print('hahahh')\",\n",
       "  'test1()',\n",
       "  \"def ou():\\n      print('偶数'，i)\",\n",
       "  \"def ou():\\n      print('偶数',i)\",\n",
       "  \"def  ji():\\n    print('奇数'，j)\",\n",
       "  \"def  ji():\\n    print('奇数',j)\",\n",
       "  'for i in range(10):\\n    ji()\\n    ou()',\n",
       "  \"def ou():\\n      print('def',i,'偶数',i)\",\n",
       "  \"def  ji():\\n    print('def',i,'奇数',i)\",\n",
       "  'for i in range(10):\\n    ji()\\n    ou()',\n",
       "  'for i in range(1,11):\\n    ji()\\n    for j in range (i+1)\\n    ou()',\n",
       "  'for i in range(1,11):\\n    if i%2==0:\\n        ou()\\n    else:\\n        ji()',\n",
       "  'def nm(nm):\\n    print(nm**3)',\n",
       "  'nm(10)',\n",
       "  \"def test2():\\n    for i in range(1,11,2):\\n        print('def1',1)\\n        test1()\\ndef test1(i):\\n    print('def2',i+1)\\n    \",\n",
       "  \"def test2():\\n    for i in range(1,11,2):\\n        print('def1',1)\\n        test1()\\ndef test1(i):\\n    print('def2',i+1)\\n    \",\n",
       "  'test()',\n",
       "  'test2()',\n",
       "  'test2()',\n",
       "  \"def test2():\\n    for i in range(1,11,2):\\n        print('def1',i)\\n        test1(i)\\ndef test1(i):\\n    print('def2',i+1)\\n    \",\n",
       "  'test2()',\n",
       "  \"import matplotlib.pyplot as plt\\nres = plt.imread('/Users/huwang/Documents/other/图片/66.jpeg')\\nprint(res)\",\n",
       "  \"import matplotlib.pyplot as plt\\nres = plt.imread('/Users/huwang/Documents/other/图片/66.jpeg')\\nprint(res)\",\n",
       "  'import pymysql',\n",
       "  'import pymysql',\n",
       "  'def test(a,b,c,d,e=100):\\n    print(a,b,c,d,e)',\n",
       "  'test(1,2,3,4)',\n",
       "  'def test1(n):\\n    print(n**2)\\ndef test2(n):\\n    print(n**3)\\nfor i in range(10):\\n    if i%2==0:\\n        print(test1(i))\\n    else:\\n        print(test2(i))',\n",
       "  'def test1(n):\\n    print(n**2)\\ndef test2(n):\\n    print(n**3)\\nfor i in range(10):\\n    if i%2==0:\\n        print(i,test1(i))\\n    else:\\n        print(i,test2(i))',\n",
       "  'test(a=1,b=2,c=3)',\n",
       "  'test(a=1,b=2,c=3)',\n",
       "  \"def test(a,b,*,c,d=100,e='svc'):\\n    print(a,b,c,d,e)\",\n",
       "  'test(a=1,b=2,c=3)',\n",
       "  'def test1(n):\\n    print(n**2)\\ndef test2(n):\\n    print(n**3)\\nfor i in range(10):\\n    if i%2==0:\\n        print(i,test1(i))\\n    else:\\n        print(i,test2(i))',\n",
       "  'def test1(n):\\n    print(n**2)\\ndef test2(n):\\n    print(n**3)\\nfor i in range(1,10):\\n    if i%2==0:\\n        print(i,test1(i))\\n    else:\\n        print(i,test2(i))',\n",
       "  'def test():\\n    print()',\n",
       "  'def test():\\n    print()',\n",
       "  'def test(*args):\\n    print(args)',\n",
       "  'test()',\n",
       "  'test(1,2,3,4,5,6)',\n",
       "  'def test(*args):\\n    print(args)\\n    print(type(args))',\n",
       "  'test(1,2,3,4,5,6)',\n",
       "  'def test2(**kwargs):\\n    print(kwargs)',\n",
       "  'test2()',\n",
       "  'test2(a=1,b=2,c=3)',\n",
       "  \"config = {\\n    'host':'127.0.01'\\n    'user':'root'\\n    'db':'phone'\\n    'charset':'utf8'\\n}\\ntest2(**config)\",\n",
       "  \"config = {\\n    'host':'127.0.01'\\n    'user':'root'\\n    'db':'phone'\\n    'charset':'utf8'\\n}\\ntest2(**config)\",\n",
       "  \"config = {\\n    'host':'127.0.01',\\n    'user':'root',\\n    'db':'phone',\\n    'charset':'utf8'\\n}\\ntest2(**config)\",\n",
       "  'def res(*args,**kwargs):\\n    print(args)\\n    print(kwargs)',\n",
       "  'res(1,2,3,a=1,b=2)',\n",
       "  'def res2(**kwargs):\\n    print(kwargs)',\n",
       "  'res2(**kwargs)',\n",
       "  'res2(**config)',\n",
       "  'res(1,2,3)',\n",
       "  'res(a=1,b=2,1,2,3)',\n",
       "  'res(1,2,3,a=1,b=2)',\n",
       "  'mist = 0\\ndef test4():\\n    global mist\\n    mist +=100\\n    print(mist)',\n",
       "  'test4()',\n",
       "  'mist2 = []\\ndef test5():\\n    mist2.append(100)\\n    print(mist2)',\n",
       "  'mist2 = []\\ndef test5():\\n    mist2.append(100)\\n    print(mist2)',\n",
       "  'mist3 = 100\\ndef test6():\\n    del mist3',\n",
       "  'mist3 = 100\\ndef test6():\\n    global mist3\\n    del mist3',\n",
       "  'test6()\\nprint(mist3)',\n",
       "  'test5()\\nprint(mist2)',\n",
       "  'globals',\n",
       "  'globals()',\n",
       "  'locals()'],\n",
       " 'Out': {79: <function globals>, 80: {...}},\n",
       " '_': {...},\n",
       " '_79': <function globals>,\n",
       " '_80': {...},\n",
       " '__': <function globals>,\n",
       " '___': '',\n",
       " '__builtin__': <module 'builtins' (built-in)>,\n",
       " '__builtins__': <module 'builtins' (built-in)>,\n",
       " '__doc__': 'Automatically created module for IPython interactive environment',\n",
       " '__loader__': None,\n",
       " '__name__': '__main__',\n",
       " '__package__': None,\n",
       " '__spec__': None,\n",
       " '_dh': ['C:\\\\Users\\\\Administrator\\\\Desktop\\\\codeggz\\\\doc_all\\\\doc_all\\\\Teacher\\\\Python基础'],\n",
       " '_i': 'globals()',\n",
       " '_i1': \"def joker():\\n    print('haahhah')\",\n",
       " '_i10': \"def li():\\n    num = int(input('输入一个数'))\\n    return num**3,num**2 \",\n",
       " '_i11': 'res,res2=li()\\nprint(res,res2)',\n",
       " '_i12': \"def li():\\n    num = int(input('输入一个数'))\\n    return num**2 \",\n",
       " '_i13': 'res=li()\\nprint(res)',\n",
       " '_i14': 'res=li()\\nprint(res)',\n",
       " '_i15': \"def test1():\\n    test2()\\ndef test2():\\n    print('hahahh')\",\n",
       " '_i16': 'test1()',\n",
       " '_i17': \"def ou():\\n      print('偶数'，i)\",\n",
       " '_i18': \"def ou():\\n      print('偶数',i)\",\n",
       " '_i19': \"def  ji():\\n    print('奇数'，j)\",\n",
       " '_i2': 'joker()',\n",
       " '_i20': \"def  ji():\\n    print('奇数',j)\",\n",
       " '_i21': 'for i in range(10):\\n    ji()\\n    ou()',\n",
       " '_i22': \"def ou():\\n      print('def',i,'偶数',i)\",\n",
       " '_i23': \"def  ji():\\n    print('def',i,'奇数',i)\",\n",
       " '_i24': 'for i in range(10):\\n    ji()\\n    ou()',\n",
       " '_i25': 'for i in range(1,11):\\n    ji()\\n    for j in range (i+1)\\n    ou()',\n",
       " '_i26': 'for i in range(1,11):\\n    if i%2==0:\\n        ou()\\n    else:\\n        ji()',\n",
       " '_i27': 'def nm(nm):\\n    print(nm**3)',\n",
       " '_i28': 'nm(10)',\n",
       " '_i29': \"def test2():\\n    for i in range(1,11,2):\\n        print('def1',1)\\n        test1()\\ndef test1(i):\\n    print('def2',i+1)\\n    \",\n",
       " '_i3': 'li()',\n",
       " '_i30': \"def test2():\\n    for i in range(1,11,2):\\n        print('def1',1)\\n        test1()\\ndef test1(i):\\n    print('def2',i+1)\\n    \",\n",
       " '_i31': 'test()',\n",
       " '_i32': 'test2()',\n",
       " '_i33': 'test2()',\n",
       " '_i34': \"def test2():\\n    for i in range(1,11,2):\\n        print('def1',i)\\n        test1(i)\\ndef test1(i):\\n    print('def2',i+1)\\n    \",\n",
       " '_i35': 'test2()',\n",
       " '_i36': \"import matplotlib.pyplot as plt\\nres = plt.imread('/Users/huwang/Documents/other/图片/66.jpeg')\\nprint(res)\",\n",
       " '_i37': \"import matplotlib.pyplot as plt\\nres = plt.imread('/Users/huwang/Documents/other/图片/66.jpeg')\\nprint(res)\",\n",
       " '_i38': 'import pymysql',\n",
       " '_i39': 'import pymysql',\n",
       " '_i4': \"def li():\\n    i=0\\n    num=int(intput('输入一个数'))\\n    i=num**3\\n    print(i)    \",\n",
       " '_i40': 'def test(a,b,c,d,e=100):\\n    print(a,b,c,d,e)',\n",
       " '_i41': 'test(1,2,3,4)',\n",
       " '_i42': 'def test1(n):\\n    print(n**2)\\ndef test2(n):\\n    print(n**3)\\nfor i in range(10):\\n    if i%2==0:\\n        print(test1(i))\\n    else:\\n        print(test2(i))',\n",
       " '_i43': 'def test1(n):\\n    print(n**2)\\ndef test2(n):\\n    print(n**3)\\nfor i in range(10):\\n    if i%2==0:\\n        print(i,test1(i))\\n    else:\\n        print(i,test2(i))',\n",
       " '_i44': 'test(a=1,b=2,c=3)',\n",
       " '_i45': 'test(a=1,b=2,c=3)',\n",
       " '_i46': \"def test(a,b,*,c,d=100,e='svc'):\\n    print(a,b,c,d,e)\",\n",
       " '_i47': 'test(a=1,b=2,c=3)',\n",
       " '_i48': 'def test1(n):\\n    print(n**2)\\ndef test2(n):\\n    print(n**3)\\nfor i in range(10):\\n    if i%2==0:\\n        print(i,test1(i))\\n    else:\\n        print(i,test2(i))',\n",
       " '_i49': 'def test1(n):\\n    print(n**2)\\ndef test2(n):\\n    print(n**3)\\nfor i in range(1,10):\\n    if i%2==0:\\n        print(i,test1(i))\\n    else:\\n        print(i,test2(i))',\n",
       " '_i5': \"def li():\\n    i=0\\n    num=int(intput('输入一个数'))\\n    i=num**3\\n    print(i)    \",\n",
       " '_i50': 'def test():\\n    print()',\n",
       " '_i51': 'def test():\\n    print()',\n",
       " '_i52': 'def test(*args):\\n    print(args)',\n",
       " '_i53': 'test()',\n",
       " '_i54': 'test(1,2,3,4,5,6)',\n",
       " '_i55': 'def test(*args):\\n    print(args)\\n    print(type(args))',\n",
       " '_i56': 'test(1,2,3,4,5,6)',\n",
       " '_i57': 'def test2(**kwargs):\\n    print(kwargs)',\n",
       " '_i58': 'test2()',\n",
       " '_i59': 'test2(a=1,b=2,c=3)',\n",
       " '_i6': \"def li():\\n    num=int(intput('输入一个数'))\\n    reture num**3,number**2 \",\n",
       " '_i60': \"config = {\\n    'host':'127.0.01'\\n    'user':'root'\\n    'db':'phone'\\n    'charset':'utf8'\\n}\\ntest2(**config)\",\n",
       " '_i61': \"config = {\\n    'host':'127.0.01'\\n    'user':'root'\\n    'db':'phone'\\n    'charset':'utf8'\\n}\\ntest2(**config)\",\n",
       " '_i62': \"config = {\\n    'host':'127.0.01',\\n    'user':'root',\\n    'db':'phone',\\n    'charset':'utf8'\\n}\\ntest2(**config)\",\n",
       " '_i63': 'def res(*args,**kwargs):\\n    print(args)\\n    print(kwargs)',\n",
       " '_i64': 'res(1,2,3,a=1,b=2)',\n",
       " '_i65': 'def res2(**kwargs):\\n    print(kwargs)',\n",
       " '_i66': 'res2(**kwargs)',\n",
       " '_i67': 'res2(**config)',\n",
       " '_i68': 'res(1,2,3)',\n",
       " '_i69': 'res(a=1,b=2,1,2,3)',\n",
       " '_i7': \"def li():\\n    num=int(intput('输入一个数'))\\n    reture num**3,num**2 \",\n",
       " '_i70': 'res(1,2,3,a=1,b=2)',\n",
       " '_i71': 'mist = 0\\ndef test4():\\n    global mist\\n    mist +=100\\n    print(mist)',\n",
       " '_i72': 'test4()',\n",
       " '_i73': 'mist2 = []\\ndef test5():\\n    mist2.append(100)\\n    print(mist2)',\n",
       " '_i74': 'mist2 = []\\ndef test5():\\n    mist2.append(100)\\n    print(mist2)',\n",
       " '_i75': 'mist3 = 100\\ndef test6():\\n    del mist3',\n",
       " '_i76': 'mist3 = 100\\ndef test6():\\n    global mist3\\n    del mist3',\n",
       " '_i77': 'test6()\\nprint(mist3)',\n",
       " '_i78': 'test5()\\nprint(mist2)',\n",
       " '_i79': 'globals',\n",
       " '_i8': \"def li():\\n    num = int(input('输入一个数'))\\n    reture num**3,num**2 \",\n",
       " '_i80': 'globals()',\n",
       " '_i81': 'locals()',\n",
       " '_i9': \"def li():\\n    num = int(input('输入一个数'))\\n    reture num**3,num**2 \",\n",
       " '_ih': ['',\n",
       "  \"def joker():\\n    print('haahhah')\",\n",
       "  'joker()',\n",
       "  'li()',\n",
       "  \"def li():\\n    i=0\\n    num=int(intput('输入一个数'))\\n    i=num**3\\n    print(i)    \",\n",
       "  \"def li():\\n    i=0\\n    num=int(intput('输入一个数'))\\n    i=num**3\\n    print(i)    \",\n",
       "  \"def li():\\n    num=int(intput('输入一个数'))\\n    reture num**3,number**2 \",\n",
       "  \"def li():\\n    num=int(intput('输入一个数'))\\n    reture num**3,num**2 \",\n",
       "  \"def li():\\n    num = int(input('输入一个数'))\\n    reture num**3,num**2 \",\n",
       "  \"def li():\\n    num = int(input('输入一个数'))\\n    reture num**3,num**2 \",\n",
       "  \"def li():\\n    num = int(input('输入一个数'))\\n    return num**3,num**2 \",\n",
       "  'res,res2=li()\\nprint(res,res2)',\n",
       "  \"def li():\\n    num = int(input('输入一个数'))\\n    return num**2 \",\n",
       "  'res=li()\\nprint(res)',\n",
       "  'res=li()\\nprint(res)',\n",
       "  \"def test1():\\n    test2()\\ndef test2():\\n    print('hahahh')\",\n",
       "  'test1()',\n",
       "  \"def ou():\\n      print('偶数'，i)\",\n",
       "  \"def ou():\\n      print('偶数',i)\",\n",
       "  \"def  ji():\\n    print('奇数'，j)\",\n",
       "  \"def  ji():\\n    print('奇数',j)\",\n",
       "  'for i in range(10):\\n    ji()\\n    ou()',\n",
       "  \"def ou():\\n      print('def',i,'偶数',i)\",\n",
       "  \"def  ji():\\n    print('def',i,'奇数',i)\",\n",
       "  'for i in range(10):\\n    ji()\\n    ou()',\n",
       "  'for i in range(1,11):\\n    ji()\\n    for j in range (i+1)\\n    ou()',\n",
       "  'for i in range(1,11):\\n    if i%2==0:\\n        ou()\\n    else:\\n        ji()',\n",
       "  'def nm(nm):\\n    print(nm**3)',\n",
       "  'nm(10)',\n",
       "  \"def test2():\\n    for i in range(1,11,2):\\n        print('def1',1)\\n        test1()\\ndef test1(i):\\n    print('def2',i+1)\\n    \",\n",
       "  \"def test2():\\n    for i in range(1,11,2):\\n        print('def1',1)\\n        test1()\\ndef test1(i):\\n    print('def2',i+1)\\n    \",\n",
       "  'test()',\n",
       "  'test2()',\n",
       "  'test2()',\n",
       "  \"def test2():\\n    for i in range(1,11,2):\\n        print('def1',i)\\n        test1(i)\\ndef test1(i):\\n    print('def2',i+1)\\n    \",\n",
       "  'test2()',\n",
       "  \"import matplotlib.pyplot as plt\\nres = plt.imread('/Users/huwang/Documents/other/图片/66.jpeg')\\nprint(res)\",\n",
       "  \"import matplotlib.pyplot as plt\\nres = plt.imread('/Users/huwang/Documents/other/图片/66.jpeg')\\nprint(res)\",\n",
       "  'import pymysql',\n",
       "  'import pymysql',\n",
       "  'def test(a,b,c,d,e=100):\\n    print(a,b,c,d,e)',\n",
       "  'test(1,2,3,4)',\n",
       "  'def test1(n):\\n    print(n**2)\\ndef test2(n):\\n    print(n**3)\\nfor i in range(10):\\n    if i%2==0:\\n        print(test1(i))\\n    else:\\n        print(test2(i))',\n",
       "  'def test1(n):\\n    print(n**2)\\ndef test2(n):\\n    print(n**3)\\nfor i in range(10):\\n    if i%2==0:\\n        print(i,test1(i))\\n    else:\\n        print(i,test2(i))',\n",
       "  'test(a=1,b=2,c=3)',\n",
       "  'test(a=1,b=2,c=3)',\n",
       "  \"def test(a,b,*,c,d=100,e='svc'):\\n    print(a,b,c,d,e)\",\n",
       "  'test(a=1,b=2,c=3)',\n",
       "  'def test1(n):\\n    print(n**2)\\ndef test2(n):\\n    print(n**3)\\nfor i in range(10):\\n    if i%2==0:\\n        print(i,test1(i))\\n    else:\\n        print(i,test2(i))',\n",
       "  'def test1(n):\\n    print(n**2)\\ndef test2(n):\\n    print(n**3)\\nfor i in range(1,10):\\n    if i%2==0:\\n        print(i,test1(i))\\n    else:\\n        print(i,test2(i))',\n",
       "  'def test():\\n    print()',\n",
       "  'def test():\\n    print()',\n",
       "  'def test(*args):\\n    print(args)',\n",
       "  'test()',\n",
       "  'test(1,2,3,4,5,6)',\n",
       "  'def test(*args):\\n    print(args)\\n    print(type(args))',\n",
       "  'test(1,2,3,4,5,6)',\n",
       "  'def test2(**kwargs):\\n    print(kwargs)',\n",
       "  'test2()',\n",
       "  'test2(a=1,b=2,c=3)',\n",
       "  \"config = {\\n    'host':'127.0.01'\\n    'user':'root'\\n    'db':'phone'\\n    'charset':'utf8'\\n}\\ntest2(**config)\",\n",
       "  \"config = {\\n    'host':'127.0.01'\\n    'user':'root'\\n    'db':'phone'\\n    'charset':'utf8'\\n}\\ntest2(**config)\",\n",
       "  \"config = {\\n    'host':'127.0.01',\\n    'user':'root',\\n    'db':'phone',\\n    'charset':'utf8'\\n}\\ntest2(**config)\",\n",
       "  'def res(*args,**kwargs):\\n    print(args)\\n    print(kwargs)',\n",
       "  'res(1,2,3,a=1,b=2)',\n",
       "  'def res2(**kwargs):\\n    print(kwargs)',\n",
       "  'res2(**kwargs)',\n",
       "  'res2(**config)',\n",
       "  'res(1,2,3)',\n",
       "  'res(a=1,b=2,1,2,3)',\n",
       "  'res(1,2,3,a=1,b=2)',\n",
       "  'mist = 0\\ndef test4():\\n    global mist\\n    mist +=100\\n    print(mist)',\n",
       "  'test4()',\n",
       "  'mist2 = []\\ndef test5():\\n    mist2.append(100)\\n    print(mist2)',\n",
       "  'mist2 = []\\ndef test5():\\n    mist2.append(100)\\n    print(mist2)',\n",
       "  'mist3 = 100\\ndef test6():\\n    del mist3',\n",
       "  'mist3 = 100\\ndef test6():\\n    global mist3\\n    del mist3',\n",
       "  'test6()\\nprint(mist3)',\n",
       "  'test5()\\nprint(mist2)',\n",
       "  'globals',\n",
       "  'globals()',\n",
       "  'locals()'],\n",
       " '_ii': 'globals',\n",
       " '_iii': 'test5()\\nprint(mist2)',\n",
       " '_oh': {79: <function globals>, 80: {...}},\n",
       " 'config': {'charset': 'utf8',\n",
       "  'db': 'phone',\n",
       "  'host': '127.0.01',\n",
       "  'user': 'root'},\n",
       " 'exit': <IPython.core.autocall.ZMQExitAutocall at 0x559e6d8>,\n",
       " 'get_ipython': <bound method InteractiveShell.get_ipython of <ipykernel.zmqshell.ZMQInteractiveShell object at 0x0000000005580208>>,\n",
       " 'i': 9,\n",
       " 'ji': <function __main__.ji>,\n",
       " 'joker': <function __main__.joker>,\n",
       " 'li': <function __main__.li>,\n",
       " 'mist': 100,\n",
       " 'mist2': [100],\n",
       " 'nm': <function __main__.nm>,\n",
       " 'ou': <function __main__.ou>,\n",
       " 'plt': <module 'matplotlib.pyplot' from 'C:\\\\ProgramData\\\\Anaconda3\\\\lib\\\\site-packages\\\\matplotlib\\\\pyplot.py'>,\n",
       " 'pymysql': <module 'pymysql' from 'C:\\\\ProgramData\\\\Anaconda3\\\\lib\\\\site-packages\\\\pymysql\\\\__init__.py'>,\n",
       " 'quit': <IPython.core.autocall.ZMQExitAutocall at 0x559e6d8>,\n",
       " 'res': <function __main__.res>,\n",
       " 'res2': <function __main__.res2>,\n",
       " 'test': <function __main__.test>,\n",
       " 'test1': <function __main__.test1>,\n",
       " 'test2': <function __main__.test2>,\n",
       " 'test4': <function __main__.test4>,\n",
       " 'test5': <function __main__.test5>,\n",
       " 'test6': <function __main__.test6>}"
      ]
     },
     "execution_count": 81,
     "metadata": {},
     "output_type": "execute_result"
    }
   ],
   "source": [
    "locals()"
   ]
  },
  {
   "cell_type": "markdown",
   "metadata": {},
   "source": [
    "## 注意：\n",
    "- global ：在进行赋值操作的时候需要声明\n",
    "- 官方解释：This is because when you make an assignment to a variable in a scope, that variable becomes local to that scope and shadows any similarly named variable in the outer scope.\n",
    "- ![](../Photo/73.png)"
   ]
  },
  {
   "cell_type": "code",
   "execution_count": 8,
   "metadata": {},
   "outputs": [
    {
     "name": "stdout",
     "output_type": "stream",
     "text": [
      "1\n",
      "1\n"
     ]
    }
   ],
   "source": [
    "x = 1\n",
    "y = []\n",
    "def test():\n",
    "#     x = x  + 1\n",
    "    y.append(100)\n",
    "    print(x)\n",
    "test()\n",
    "print(x)"
   ]
  },
  {
   "cell_type": "markdown",
   "metadata": {},
   "source": [
    "## EP：\n",
    "- 定义一个邮箱加密函数，使得输入邮箱后进行ASCII码加密\n",
    "- 定义一个判断其是否为闰年的函数\n",
    "- 函数的嵌套：定义两个函数A，B，B函数接受A函数的数值并判定是否为奇数或者偶数"
   ]
  },
  {
   "cell_type": "markdown",
   "metadata": {},
   "source": [
    "# Homework\n",
    "- 1\n",
    "![](../Photo/74.png)"
   ]
  },
  {
   "cell_type": "code",
   "execution_count": 3,
   "metadata": {},
   "outputs": [
    {
     "name": "stdout",
     "output_type": "stream",
     "text": [
      "1.0 5.0 12.0 22.0 35.0 51.0 70.0 92.0 117.0 145.0 \n",
      "176.0 210.0 247.0 287.0 330.0 376.0 425.0 477.0 532.0 590.0 \n",
      "651.0 715.0 782.0 852.0 925.0 1001.0 1080.0 1162.0 1247.0 1335.0 \n",
      "1426.0 1520.0 1617.0 1717.0 1820.0 1926.0 2035.0 2147.0 2262.0 2380.0 \n",
      "2501.0 2625.0 2752.0 2882.0 3015.0 3151.0 3290.0 3432.0 3577.0 3725.0 \n",
      "3876.0 4030.0 4187.0 4347.0 4510.0 4676.0 4845.0 5017.0 5192.0 5370.0 \n",
      "5551.0 5735.0 5922.0 6112.0 6305.0 6501.0 6700.0 6902.0 7107.0 7315.0 \n",
      "7526.0 7740.0 7957.0 8177.0 8400.0 8626.0 8855.0 9087.0 9322.0 9560.0 \n",
      "9801.0 10045.0 10292.0 10542.0 10795.0 11051.0 11310.0 11572.0 11837.0 12105.0 \n",
      "12376.0 12650.0 12927.0 13207.0 13490.0 13776.0 14065.0 14357.0 14652.0 "
     ]
    }
   ],
   "source": [
    "def getPentagonalNumber(n):\n",
    "    for i in range(1,n):\n",
    "        print(i * (3*i -1) /2,end=' ')\n",
    "        if i % 10 == 0 and i !=0:\n",
    "            print()\n",
    "getPentagonalNumber(100)"
   ]
  },
  {
   "cell_type": "markdown",
   "metadata": {},
   "source": [
    "- 2 \n",
    "![](../Photo/75.png)"
   ]
  },
  {
   "cell_type": "code",
   "execution_count": 5,
   "metadata": {},
   "outputs": [
    {
     "name": "stdout",
     "output_type": "stream",
     "text": [
      "9 ( 2 + 3 + 4 )\n"
     ]
    }
   ],
   "source": [
    "def sumDigits(n):\n",
    "    a1=n%10\n",
    "    b1=n//10\n",
    "    a2=b1%10\n",
    "    a3=b1//10\n",
    "    a4=a3+a2+a1\n",
    "    print(a4,'(',a3,'+',a2,'+',a1,')')\n",
    "sumDigits(234)\n"
   ]
  },
  {
   "cell_type": "markdown",
   "metadata": {},
   "source": [
    "- 3\n",
    "![](../Photo/76.png)"
   ]
  },
  {
   "cell_type": "code",
   "execution_count": 18,
   "metadata": {},
   "outputs": [
    {
     "name": "stdout",
     "output_type": "stream",
     "text": [
      "Enter three number: 3,2.4,5\n",
      "the sorted numbers are  2.4 3 5\n"
     ]
    }
   ],
   "source": [
    "def diplaySorteNumbers(num1,num2,num3):\n",
    "    if num1>num2 and num1>num3 and num2>num3:\n",
    "        print('the sorted numbers are ', num3, num2, num1)\n",
    "    elif num1>num2 and num1>num3 and num3>num2:\n",
    "        print('the sorted numbers are ', num2, num3, num1)    \n",
    "    elif num2>=num1 and num2>=num3 and num1>=num3:\n",
    "        print('the sorted numbers are ', num3, num1, num2)\n",
    "    elif num2>=num1 and num2>=num3 and num3>=num1:\n",
    "        print('the sorted numbers are ', num1, num3, num2)\n",
    "    elif num3>=num2 and num3>=num1 and num2>num1:\n",
    "        print('the sorted numbers are ', num1, num2, num3)\n",
    "    elif num3>=num2 and num3>=num1 and num1>num2:\n",
    "        print('the sorted numbers are ', num2, num1, num3)\n",
    "num1,num2,num3=eval(input('Enter three number: '))  \n",
    "diplaySorteNumbers(num1,num2,num3)"
   ]
  },
  {
   "cell_type": "markdown",
   "metadata": {},
   "source": [
    "- 4\n",
    "![](../Photo/77.png)"
   ]
  },
  {
   "cell_type": "code",
   "execution_count": 35,
   "metadata": {},
   "outputs": [
    {
     "name": "stdout",
     "output_type": "stream",
     "text": [
      "the amount inveated: 1000\n",
      "Annual interest rate: 9\n",
      "years   future value\n",
      "\n",
      "1    1093.81\n",
      "2    1196.41\n",
      "3    1308.65\n",
      "4    1431.41\n",
      "5    1565.68\n",
      "6    1712.55\n",
      "7    1873.20\n",
      "8    2048.92\n",
      "9    2241.12\n",
      "10    2451.36\n",
      "11    2681.31\n",
      "12    2932.84\n",
      "13    3207.96\n",
      "14    3508.89\n",
      "15    3838.04\n",
      "16    4198.08\n",
      "17    4591.89\n",
      "18    5022.64\n",
      "19    5493.80\n",
      "20    6009.15\n",
      "21    6572.85\n",
      "22    7189.43\n",
      "23    7863.85\n",
      "24    8601.53\n",
      "25    9408.41\n",
      "26    10290.99\n",
      "27    11256.35\n",
      "28    12312.28\n",
      "29    13467.25\n",
      "30    14730.58\n"
     ]
    }
   ],
   "source": [
    "def futureInvestmentValue(inn,mo,i):\n",
    "    au=inn*(1+mo)**(i*12)\n",
    "    print('%d    %.2f'%(i,au))    \n",
    "inn=eval(input('the amount inveated: ')) \n",
    "yel=eval(input('Annual interest rate: ')) \n",
    "mo=yel/100/12\n",
    "print('years   future value\\n')\n",
    "for i in range (1,31):\n",
    "    futureInvestmentValue(inn,mo,i)\n"
   ]
  },
  {
   "cell_type": "markdown",
   "metadata": {},
   "source": [
    "- 5\n",
    "![](../Photo/78.png)"
   ]
  },
  {
   "cell_type": "code",
   "execution_count": 49,
   "metadata": {},
   "outputs": [
    {
     "name": "stdout",
     "output_type": "stream",
     "text": [
      "输入字符i\n",
      "输入字符z\n",
      "输入打印个数10\n",
      "i j k l m n o p q r \n",
      "s t u v w x y z "
     ]
    }
   ],
   "source": [
    "def printChars(ch1,ch2,numberPerLine):\n",
    "    jj=0\n",
    "    for i in range(ord(ch1),ord(ch2)+1):\n",
    "        print(chr(i),end=' ')\n",
    "        jj+=1\n",
    "        if jj%10==0 or jj==numberPerLine:\n",
    "            print()\n",
    "\n",
    "ch1=input('输入字符')\n",
    "ch2=input('输入字符')\n",
    "numberPerLine=eval(input('输入打印个数'))\n",
    "printChars(ch1,ch2,numberPerLine)\n",
    "\n",
    "\n"
   ]
  },
  {
   "cell_type": "markdown",
   "metadata": {},
   "source": [
    "- 6\n",
    "![](../Photo/79.png)"
   ]
  },
  {
   "cell_type": "code",
   "execution_count": 51,
   "metadata": {},
   "outputs": [
    {
     "name": "stdout",
     "output_type": "stream",
     "text": [
      "2010 365\n",
      "2011 365\n",
      "2012 366\n",
      "2013 365\n",
      "2014 365\n",
      "2015 365\n",
      "2016 366\n",
      "2017 365\n",
      "2018 365\n",
      "2019 365\n"
     ]
    }
   ],
   "source": [
    "def number0fDaysInAYear(year):\n",
    "    a1=year\n",
    "    if (a1%4==0) and (a1%100!=0)  or (a1%400==0):\n",
    "        print(a1,'366')\n",
    "    else:\n",
    "        print(a1,'365')\n",
    "for i in range(2010,2020):\n",
    "    number0fDaysInAYear(i)"
   ]
  },
  {
   "cell_type": "markdown",
   "metadata": {},
   "source": [
    "- 7\n",
    "![](../Photo/80.png)"
   ]
  },
  {
   "cell_type": "code",
   "execution_count": 54,
   "metadata": {},
   "outputs": [
    {
     "name": "stdout",
     "output_type": "stream",
     "text": [
      "请输入两个点x1,y1,x2,y2:  1,2,3,4\n",
      "1.4142135623730951\n"
     ]
    }
   ],
   "source": [
    "import math\n",
    "def distance(x1,y1,x2,y2):\n",
    "    a=math.sqrt((x1-x2)**2+(y1-y2)**2)\n",
    "    print(a)\n",
    "x1,x2,y1,y2=eval(input('请输入两个点x1,y1,x2,y2:  '))\n",
    "distance(x1,y1,x2,y2)"
   ]
  },
  {
   "cell_type": "markdown",
   "metadata": {},
   "source": [
    "- 8\n",
    "![](../Photo/81.png)"
   ]
  },
  {
   "cell_type": "code",
   "execution_count": 13,
   "metadata": {},
   "outputs": [
    {
     "name": "stdout",
     "output_type": "stream",
     "text": [
      "p        2^p-1\n",
      "\n",
      "2      3\n",
      "3      7\n",
      "5      31\n",
      "7      127\n",
      "11      2047\n",
      "13      8191\n",
      "17      131071\n",
      "19      524287\n",
      "23      8388607\n",
      "29      536870911\n"
     ]
    }
   ],
   "source": [
    "def shushu():\n",
    "    for i in range(1,31):\n",
    "        if  i == 2:\n",
    "            print(i,'    ',2**i-1)\n",
    "        for j in range(2,i):\n",
    "            if i % j == 0:\n",
    "                break\n",
    "            if j == i-1:\n",
    "                 print(i,'    ',2**i-1)\n",
    "            \n",
    "print('p        2^p-1\\n')\n",
    "shushu()"
   ]
  },
  {
   "cell_type": "markdown",
   "metadata": {},
   "source": [
    "- 9\n",
    "![](../Photo/82.png)\n",
    "![](../Photo/83.png)"
   ]
  },
  {
   "cell_type": "code",
   "execution_count": 58,
   "metadata": {},
   "outputs": [
    {
     "name": "stdout",
     "output_type": "stream",
     "text": [
      "Current date and time is  Jul 20 , 2018 18:44:11\n"
     ]
    }
   ],
   "source": [
    "import time\n",
    "import datetime\n",
    "i = datetime.datetime.now()\n",
    "lsy=['Jan','Feb','Mar','Apr','May','Jun','Jul','Aug','Sep','Oct','Nov','Dec']\n",
    "print('Current date and time is ',lsy[i.month-1],i.day,',',i.year,time.strftime(\"%H:%M:%S\"))"
   ]
  },
  {
   "cell_type": "markdown",
   "metadata": {},
   "source": [
    "- 10\n",
    "![](../Photo/84.png)"
   ]
  },
  {
   "cell_type": "code",
   "execution_count": 10,
   "metadata": {},
   "outputs": [
    {
     "name": "stdout",
     "output_type": "stream",
     "text": [
      "you rolled 4 + 2 = 6\n",
      "point is  6\n",
      "you rolled 1 + 3 = 4\n",
      "point is  4\n",
      "you rolled 1 + 2 = 3\n",
      "yor win\n"
     ]
    }
   ],
   "source": [
    "def shu():\n",
    "    a1=random.randint(1,6)\n",
    "    return(a1)\n",
    "import  random\n",
    "while 1:\n",
    "    a1=shu()\n",
    "    a2=shu()\n",
    "    print('you rolled',a1,'+',a2,'=',a1+a2)\n",
    "    if (a1+a2)==2 or (a1+a2)==3 or a1+a2==12:\n",
    "        print('yor win')\n",
    "        break\n",
    "    elif  a1+a2==7 or a1+a2==11:\n",
    "        print('yor lose')\n",
    "        break\n",
    "    elif a1+a2==4 or a1+a2==5 or a1+a2==6 or a1+a2==8 or a1+a2==9 or a1+a2==10:\n",
    "        print('point is ',a1+a2) \n"
   ]
  },
  {
   "cell_type": "markdown",
   "metadata": {},
   "source": [
    "- 11 \n",
    "### 去网上寻找如何用Python代码发送邮件"
   ]
  },
  {
   "cell_type": "code",
   "execution_count": null,
   "metadata": {},
   "outputs": [],
   "source": []
  }
 ],
 "metadata": {
  "kernelspec": {
   "display_name": "Python 3",
   "language": "python",
   "name": "python3"
  },
  "language_info": {
   "codemirror_mode": {
    "name": "ipython",
    "version": 3
   },
   "file_extension": ".py",
   "mimetype": "text/x-python",
   "name": "python",
   "nbconvert_exporter": "python",
   "pygments_lexer": "ipython3",
   "version": "3.6.4"
  }
 },
 "nbformat": 4,
 "nbformat_minor": 2
}
